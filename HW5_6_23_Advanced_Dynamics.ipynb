{
  "nbformat": 4,
  "nbformat_minor": 0,
  "metadata": {
    "colab": {
      "name": "HW5_6_23_Advanced_Dynamics.ipynb",
      "provenance": [],
      "authorship_tag": "ABX9TyOGor0faxHBOYB4fLnj3FHH",
      "include_colab_link": true
    },
    "kernelspec": {
      "name": "python3",
      "display_name": "Python 3"
    },
    "language_info": {
      "name": "python"
    }
  },
  "cells": [
    {
      "cell_type": "markdown",
      "metadata": {
        "id": "view-in-github",
        "colab_type": "text"
      },
      "source": [
        "<a href=\"https://colab.research.google.com/github/lcalderon-aceituno/PS353-SP22-HW/blob/main/HW5_6_23_Advanced_Dynamics.ipynb\" target=\"_parent\"><img src=\"https://colab.research.google.com/assets/colab-badge.svg\" alt=\"Open In Colab\"/></a>"
      ]
    },
    {
      "cell_type": "markdown",
      "source": [
        "# 6.23\n"
      ],
      "metadata": {
        "id": "81EaLY1oNfG4"
      }
    },
    {
      "cell_type": "code",
      "source": [
        "from sympy import *\n",
        "from sympy.plotting import plot"
      ],
      "metadata": {
        "id": "-zPsOuXYN2mV"
      },
      "execution_count": 95,
      "outputs": []
    },
    {
      "cell_type": "markdown",
      "source": [
        "## (a) Find the plane's ground speed in terms of $v_0, V, \\phi$ (the angle by which the plane heads to the north of east), and the plane's position. "
      ],
      "metadata": {
        "id": "dOWTaswiNjRz"
      }
    },
    {
      "cell_type": "code",
      "source": [
        "var('v0 V y phi') # create variables"
      ],
      "metadata": {
        "colab": {
          "base_uri": "https://localhost:8080/"
        },
        "id": "jyIQQ0SSN1T6",
        "outputId": "93c4e0b3-6ca8-420b-c33c-ea32d09c4cc8"
      },
      "execution_count": 96,
      "outputs": [
        {
          "output_type": "execute_result",
          "data": {
            "text/plain": [
              "(v0, V, y, phi)"
            ]
          },
          "metadata": {},
          "execution_count": 96
        }
      ]
    },
    {
      "cell_type": "code",
      "source": [
        "v_vec = v0 + V*y # superposition of initial velocity and velocity from wind"
      ],
      "metadata": {
        "id": "7Wwo1OVJOJLR"
      },
      "execution_count": 97,
      "outputs": []
    },
    {
      "cell_type": "code",
      "source": [
        "# break velocity in to components \n",
        "v_vec_x = v0*cos(phi) + V*y \n",
        "v_vec_y = v0*sin(phi) \n",
        "v_vec_z = 0"
      ],
      "metadata": {
        "id": "B7sqGMQNQSIC"
      },
      "execution_count": 98,
      "outputs": []
    },
    {
      "cell_type": "code",
      "source": [
        "groundspeed = sqrt(v_vec_x**2 + v_vec_y**2 + v_vec_z**2)\n",
        "groundspeed.simplify()"
      ],
      "metadata": {
        "colab": {
          "base_uri": "https://localhost:8080/",
          "height": 48
        },
        "id": "IZ_E0_ibQ4lB",
        "outputId": "197bac68-8403-4bcf-9c49-2163628ac04a"
      },
      "execution_count": 99,
      "outputs": [
        {
          "output_type": "execute_result",
          "data": {
            "text/latex": "$\\displaystyle \\sqrt{V^{2} y^{2} + 2 V v_{0} y \\cos{\\left(\\phi \\right)} + v_{0}^{2}}$",
            "text/plain": [
              "sqrt(V**2*y**2 + 2*V*v0*y*cos(phi) + v0**2)"
            ]
          },
          "metadata": {},
          "execution_count": 99
        }
      ]
    },
    {
      "cell_type": "markdown",
      "source": [
        "## (b) Write down the time of flight as an integral of the form \n",
        "$$L = \\int\\limits_{0}^{D} f\\, dx$$\n",
        "Show that if we assume that $y'$ and $\\phi$ both remain small, then the integrand $f$ takes the approximate form $$f = \\frac{1+0.5y'^2}{1+ky}$$ where $k = V/v_0$"
      ],
      "metadata": {
        "id": "EUOH-xuqobuA"
      }
    },
    {
      "cell_type": "markdown",
      "source": [
        "now time integral can be written as "
      ],
      "metadata": {
        "id": "u79pOw9tpJuO"
      }
    },
    {
      "cell_type": "code",
      "source": [
        "var('dx dphi dy yprime k yprimeprime l x D') # create variables"
      ],
      "metadata": {
        "colab": {
          "base_uri": "https://localhost:8080/"
        },
        "id": "zKy6ggQBpZH4",
        "outputId": "3d1f14c3-0bda-4954-a92c-e21e2dc3d605"
      },
      "execution_count": 100,
      "outputs": [
        {
          "output_type": "execute_result",
          "data": {
            "text/plain": [
              "(dx, dphi, dy, yprime, k, yprimeprime, l, x, D)"
            ]
          },
          "metadata": {},
          "execution_count": 100
        }
      ]
    },
    {
      "cell_type": "code",
      "source": [
        "ds = sqrt(dx**2+dy**2)"
      ],
      "metadata": {
        "id": "kGWCvhL4RF-h"
      },
      "execution_count": 101,
      "outputs": []
    },
    {
      "cell_type": "markdown",
      "source": [
        "We can pull a $dx^2$ out of the expression to get "
      ],
      "metadata": {
        "id": "vMtHDUwmrrm_"
      }
    },
    {
      "cell_type": "code",
      "source": [
        "ds = sqrt(1+(dy/dx)**2)*dx\n",
        "ds"
      ],
      "metadata": {
        "colab": {
          "base_uri": "https://localhost:8080/",
          "height": 59
        },
        "id": "Nw7EpjOmroDS",
        "outputId": "f81a2588-9b6c-430e-9bad-02986dd86296"
      },
      "execution_count": 102,
      "outputs": [
        {
          "output_type": "execute_result",
          "data": {
            "text/latex": "$\\displaystyle dx \\sqrt{1 + \\frac{dy^{2}}{dx^{2}}}$",
            "text/plain": [
              "dx*sqrt(1 + dy**2/dx**2)"
            ]
          },
          "metadata": {},
          "execution_count": 102
        }
      ]
    },
    {
      "cell_type": "markdown",
      "source": [
        "Which can be written as "
      ],
      "metadata": {
        "id": "rPGxiMH0sXVP"
      }
    },
    {
      "cell_type": "code",
      "source": [
        "ds = dx*sqrt(1+yprime**2)\n",
        "ds"
      ],
      "metadata": {
        "colab": {
          "base_uri": "https://localhost:8080/",
          "height": 40
        },
        "id": "ALpakR5_r5i2",
        "outputId": "413f1c07-3bf8-4b53-f5f7-010992a87fc0"
      },
      "execution_count": 103,
      "outputs": [
        {
          "output_type": "execute_result",
          "data": {
            "text/latex": "$\\displaystyle dx \\sqrt{{y}'^{2} + 1}$",
            "text/plain": [
              "dx*sqrt(yprime**2 + 1)"
            ]
          },
          "metadata": {},
          "execution_count": 103
        }
      ]
    },
    {
      "cell_type": "code",
      "source": [
        "integrand2 = ds/v_vec"
      ],
      "metadata": {
        "id": "lDvqGWtrtoGH"
      },
      "execution_count": 104,
      "outputs": []
    },
    {
      "cell_type": "markdown",
      "source": [
        "So the time integral becomes $$L = \\int\\limits_{0}^{D} \\frac{ds}{v}\\, dx$$\n",
        "$$L = \\int\\limits_{0}^{D} \\frac{\\sqrt(y'^2+1)}{v_0+Vy}\\, dx$$"
      ],
      "metadata": {
        "id": "MQ2FHe8TseBT"
      }
    },
    {
      "cell_type": "markdown",
      "source": [
        "Using a binomial approximation for small $y'$ and $k = V/v_0$, we get \n",
        "$$L = \\int\\limits_{0}^{D} \\frac{1+ 0.5y'^2}{1+ky}\\, dx$$"
      ],
      "metadata": {
        "id": "FzW1RDwbtrWy"
      }
    },
    {
      "cell_type": "code",
      "source": [
        "f = (1+0.5*yprime**2)/(v0 + V*y)\n",
        "f"
      ],
      "metadata": {
        "colab": {
          "base_uri": "https://localhost:8080/",
          "height": 57
        },
        "id": "oJaOr3Z-wEyW",
        "outputId": "88763f97-30ff-40ab-ce6e-972cee2597d7"
      },
      "execution_count": 105,
      "outputs": [
        {
          "output_type": "execute_result",
          "data": {
            "text/latex": "$\\displaystyle \\frac{0.5 {y}'^{2} + 1}{V y + v_{0}}$",
            "text/plain": [
              "(0.5*yprime**2 + 1)/(V*y + v0)"
            ]
          },
          "metadata": {},
          "execution_count": 105
        }
      ]
    },
    {
      "cell_type": "markdown",
      "source": [
        "## (c) Write down the E-L equation that determines the best path. To solve it, guess that $y(x) = \\lambda x(D-x)$. Show that it satisfies the E-L equation, given $\\lambda = \\frac{\\sqrt(4+2k^2D^2)-2}{kD^2}$. How far north does this path take the plane, if $ D = 2000$ miles, $v_0 = 500$ mph, and the wind shear is $V = 0.5$ mph/mi? How much time does the plane save by following this path?"
      ],
      "metadata": {
        "id": "uA43s6Ysuv99"
      }
    },
    {
      "cell_type": "markdown",
      "source": [
        "E-L equation tells us \n",
        "$$\\frac{∂f}{∂y} = \\frac{d}{dx}\\frac{\\partial f}{\\partial y'}$$\n",
        "\n",
        "We have the integrand $f$ and can calculate the LHS"
      ],
      "metadata": {
        "id": "wunM-riDvh8S"
      }
    },
    {
      "cell_type": "code",
      "source": [
        "LHS = diff(f, y)\n",
        "LHS"
      ],
      "metadata": {
        "colab": {
          "base_uri": "https://localhost:8080/",
          "height": 62
        },
        "id": "83dKHL30sb3h",
        "outputId": "35e8f71f-81ce-4526-a0e4-6cdf4ecf78b4"
      },
      "execution_count": 106,
      "outputs": [
        {
          "output_type": "execute_result",
          "data": {
            "text/latex": "$\\displaystyle - \\frac{V \\left(0.5 {y}'^{2} + 1\\right)}{\\left(V y + v_{0}\\right)^{2}}$",
            "text/plain": [
              "-V*(0.5*yprime**2 + 1)/(V*y + v0)**2"
            ]
          },
          "metadata": {},
          "execution_count": 106
        }
      ]
    },
    {
      "cell_type": "code",
      "source": [
        "partialyprime = diff(f, yprime)\n",
        "partialyprime"
      ],
      "metadata": {
        "colab": {
          "base_uri": "https://localhost:8080/",
          "height": 56
        },
        "id": "AhM9SIHptX6t",
        "outputId": "07899161-c375-459e-89dd-a52d1f6f75d5"
      },
      "execution_count": 107,
      "outputs": [
        {
          "output_type": "execute_result",
          "data": {
            "text/latex": "$\\displaystyle \\frac{1.0 {y}'}{V y + v_{0}}$",
            "text/plain": [
              "1.0*yprime/(V*y + v0)"
            ]
          },
          "metadata": {},
          "execution_count": 107
        }
      ]
    },
    {
      "cell_type": "code",
      "source": [
        "RHS = (yprimeprime*(v0+V*y) - V*yprime**2)/(v0+V*y)**2\n",
        "RHS"
      ],
      "metadata": {
        "colab": {
          "base_uri": "https://localhost:8080/",
          "height": 62
        },
        "id": "Rgow1Nb1wZY8",
        "outputId": "d79dcebd-ebb5-4eed-f055-2be28f7ae3fb"
      },
      "execution_count": 108,
      "outputs": [
        {
          "output_type": "execute_result",
          "data": {
            "text/latex": "$\\displaystyle \\frac{- V {y}'^{2} + {{y}'}' \\left(V y + v_{0}\\right)}{\\left(V y + v_{0}\\right)^{2}}$",
            "text/plain": [
              "(-V*yprime**2 + yprimeprime*(V*y + v0))/(V*y + v0)**2"
            ]
          },
          "metadata": {},
          "execution_count": 108
        }
      ]
    },
    {
      "cell_type": "markdown",
      "source": [
        "So full E-L expression is the below expression set equal to $0$"
      ],
      "metadata": {
        "id": "NK5GLB2myCJ6"
      }
    },
    {
      "cell_type": "code",
      "source": [
        "EL = LHS - RHS\n",
        "EL.simplify()"
      ],
      "metadata": {
        "colab": {
          "base_uri": "https://localhost:8080/",
          "height": 63
        },
        "id": "5PxVrbh1wYzQ",
        "outputId": "14dd1703-f43c-4087-cc95-b24a7a67b627"
      },
      "execution_count": 109,
      "outputs": [
        {
          "output_type": "execute_result",
          "data": {
            "text/latex": "$\\displaystyle \\frac{V {y}'^{2} - V \\left(0.5 {y}'^{2} + 1\\right) - {{y}'}' \\left(V y + v_{0}\\right)}{\\left(V y + v_{0}\\right)^{2}}$",
            "text/plain": [
              "(V*yprime**2 - V*(0.5*yprime**2 + 1) - yprimeprime*(V*y + v0))/(V*y + v0)**2"
            ]
          },
          "metadata": {},
          "execution_count": 109
        }
      ]
    },
    {
      "cell_type": "markdown",
      "source": [
        "The solution to this given by the text is $y = \\lambda x(D-x)$"
      ],
      "metadata": {
        "id": "NAFYDQupyW9D"
      }
    },
    {
      "cell_type": "markdown",
      "source": [
        "for $\\lambda = $"
      ],
      "metadata": {
        "id": "RwjSStDRy9TH"
      }
    },
    {
      "cell_type": "code",
      "source": [
        "#l = (sqrt(4+2*(V/v0)**2*D**2)-2)/((V/v0)*D**2)\n",
        "#l"
      ],
      "metadata": {
        "id": "irnY-78wyisM"
      },
      "execution_count": 110,
      "outputs": []
    },
    {
      "cell_type": "code",
      "source": [
        "soln = l*x*(D-x)\n",
        "soln"
      ],
      "metadata": {
        "colab": {
          "base_uri": "https://localhost:8080/",
          "height": 38
        },
        "id": "_-67vZMJzCPs",
        "outputId": "bb294a56-782c-47e7-90cf-c507fa690d7e"
      },
      "execution_count": 111,
      "outputs": [
        {
          "output_type": "execute_result",
          "data": {
            "text/latex": "$\\displaystyle l x \\left(D - x\\right)$",
            "text/plain": [
              "l*x*(D - x)"
            ]
          },
          "metadata": {},
          "execution_count": 111
        }
      ]
    },
    {
      "cell_type": "code",
      "source": [
        "prime = diff(soln, x)\n",
        "prime.simplify()"
      ],
      "metadata": {
        "colab": {
          "base_uri": "https://localhost:8080/",
          "height": 38
        },
        "id": "UhzkV9xHyzPo",
        "outputId": "06866e13-08c8-4c3b-d9c1-75e7015743c0"
      },
      "execution_count": 117,
      "outputs": [
        {
          "output_type": "execute_result",
          "data": {
            "text/latex": "$\\displaystyle l \\left(D - 2 x\\right)$",
            "text/plain": [
              "l*(D - 2*x)"
            ]
          },
          "metadata": {},
          "execution_count": 117
        }
      ]
    },
    {
      "cell_type": "code",
      "source": [
        "primeprime = diff(prime, x)\n",
        "primeprime.simplify()"
      ],
      "metadata": {
        "colab": {
          "base_uri": "https://localhost:8080/",
          "height": 38
        },
        "id": "hxtWt467zPVK",
        "outputId": "8c77e5bb-3337-4d9c-bcd4-12d9b641f315"
      },
      "execution_count": 118,
      "outputs": [
        {
          "output_type": "execute_result",
          "data": {
            "text/latex": "$\\displaystyle - 2 l$",
            "text/plain": [
              "-2*l"
            ]
          },
          "metadata": {},
          "execution_count": 118
        }
      ]
    },
    {
      "cell_type": "code",
      "source": [
        "num = (V*prime**2-V*(0.5*prime**2+1)-primeprime*(V*soln+v0))/(V*soln+v0)**2\n",
        "num.simplify()"
      ],
      "metadata": {
        "colab": {
          "base_uri": "https://localhost:8080/",
          "height": 73
        },
        "id": "Vtw0Bx9czVOj",
        "outputId": "7dbf5e89-dbcc-4451-d921-c8dd9a776761"
      },
      "execution_count": 135,
      "outputs": [
        {
          "output_type": "execute_result",
          "data": {
            "text/latex": "$\\displaystyle \\frac{V l^{2} \\left(- D + 2 x\\right)^{2} - V \\left(0.5 l^{2} \\left(- D + 2 x\\right)^{2} + 1\\right) + 2 l \\left(V l x \\left(D - x\\right) + v_{0}\\right)}{\\left(V l x \\left(D - x\\right) + v_{0}\\right)^{2}}$",
            "text/plain": [
              "(V*l**2*(-D + 2*x)**2 - V*(0.5*l**2*(-D + 2*x)**2 + 1) + 2*l*(V*l*x*(D - x) + v0))/(V*l*x*(D - x) + v0)**2"
            ]
          },
          "metadata": {},
          "execution_count": 135
        }
      ]
    },
    {
      "cell_type": "markdown",
      "source": [
        "We know that this result is $0$ if $l =$"
      ],
      "metadata": {
        "id": "I1nvCLQX2AGC"
      }
    },
    {
      "cell_type": "code",
      "source": [
        "solve(num, l) # solve expression for lambda"
      ],
      "metadata": {
        "colab": {
          "base_uri": "https://localhost:8080/"
        },
        "id": "mWKpwVaC28Jk",
        "outputId": "da5b7209-141f-49f8-d0d6-e56e398a972f"
      },
      "execution_count": 146,
      "outputs": [
        {
          "output_type": "execute_result",
          "data": {
            "text/plain": [
              "[(-2.0*v0 + 2.0*sqrt(0.5*D**2*V**2 + v0**2))/(D**2*V),\n",
              " -(2.0*v0 + 2.0*sqrt(0.5*D**2*V**2 + v0**2))/(D**2*V)]"
            ]
          },
          "metadata": {},
          "execution_count": 146
        }
      ]
    },
    {
      "cell_type": "code",
      "source": [
        "lambdaa = (-2.0*v0 + 2.0*sqrt(0.5*D**2*V**2 + v0**2))/(D**2*V) # choose positive root "
      ],
      "metadata": {
        "id": "C4Xm0jtG7Pnb"
      },
      "execution_count": 145,
      "outputs": []
    },
    {
      "cell_type": "markdown",
      "source": [
        "We can now apply the numbers given to us in the problem to get specifics. To get the maximum north displacement, we can solve the solution expression for $y' = 0$\n"
      ],
      "metadata": {
        "id": "38ShusSy6g-h"
      }
    },
    {
      "cell_type": "code",
      "source": [
        "solve(prime, x)"
      ],
      "metadata": {
        "colab": {
          "base_uri": "https://localhost:8080/"
        },
        "id": "dom8jx-96u_F",
        "outputId": "93f37f82-a3f8-4043-a7c9-42c09b08307d"
      },
      "execution_count": 144,
      "outputs": [
        {
          "output_type": "execute_result",
          "data": {
            "text/plain": [
              "[D/2]"
            ]
          },
          "metadata": {},
          "execution_count": 144
        }
      ]
    },
    {
      "cell_type": "markdown",
      "source": [
        "So the maximum noth displacement happens for $x = D/2$"
      ],
      "metadata": {
        "id": "ZqAoOB_Z673a"
      }
    },
    {
      "cell_type": "markdown",
      "source": [
        "We can use this to find lambda for the values given, and from there find $y(D/2)$"
      ],
      "metadata": {
        "id": "VFmHkAb07D1G"
      }
    },
    {
      "cell_type": "code",
      "source": [
        "maxl = lambdaa.subs({D:2000, v0: 500, V:0.5, x:2000/2}) # plug in given values \n",
        "maxl"
      ],
      "metadata": {
        "colab": {
          "base_uri": "https://localhost:8080/",
          "height": 37
        },
        "id": "QZ8rGwN-1cKR",
        "outputId": "7ef840f4-5a1e-4eab-d7ca-7a28a5d07f4b"
      },
      "execution_count": 149,
      "outputs": [
        {
          "output_type": "execute_result",
          "data": {
            "text/latex": "$\\displaystyle 0.000366025403784439$",
            "text/plain": [
              "0.000366025403784439"
            ]
          },
          "metadata": {},
          "execution_count": 149
        }
      ]
    },
    {
      "cell_type": "code",
      "source": [
        "soln.subs({l:maxl, x:2000/2, D:2000})"
      ],
      "metadata": {
        "colab": {
          "base_uri": "https://localhost:8080/",
          "height": 37
        },
        "id": "ft5B76B94xd2",
        "outputId": "1a7287e9-af28-4cf6-87c2-9fcb227c2c11"
      },
      "execution_count": 150,
      "outputs": [
        {
          "output_type": "execute_result",
          "data": {
            "text/latex": "$\\displaystyle 366.025403784439$",
            "text/plain": [
              "366.025403784439"
            ]
          },
          "metadata": {},
          "execution_count": 150
        }
      ]
    },
    {
      "cell_type": "markdown",
      "source": [
        "So max north displacement is $366$ miles. To find the time saved, we can calulate the actual time integral $L$. Without following the path, total time taken is $D/v0 = 2000/500 = 4$ hours. Calculations for the amount of time required when following optimal path:"
      ],
      "metadata": {
        "id": "Upe8Nb5P8JIj"
      }
    },
    {
      "cell_type": "code",
      "source": [
        "integrand3 = (1+0.5*prime**2)/(v0 + V*soln)\n",
        "integrand3"
      ],
      "metadata": {
        "colab": {
          "base_uri": "https://localhost:8080/",
          "height": 60
        },
        "id": "zfDKPfIF7fSs",
        "outputId": "003734c0-6fb1-4f2b-a9b7-45d88b9126d3"
      },
      "execution_count": 161,
      "outputs": [
        {
          "output_type": "execute_result",
          "data": {
            "text/latex": "$\\displaystyle \\frac{0.5 \\left(- l x + l \\left(D - x\\right)\\right)^{2} + 1}{V l x \\left(D - x\\right) + v_{0}}$",
            "text/plain": [
              "(0.5*(-l*x + l*(D - x))**2 + 1)/(V*l*x*(D - x) + v0)"
            ]
          },
          "metadata": {},
          "execution_count": 161
        }
      ]
    },
    {
      "cell_type": "code",
      "source": [
        "evaluate = integrand3.subs({D:2000, v0: 500, V:0.5, l:maxl})\n",
        "evaluate"
      ],
      "metadata": {
        "colab": {
          "base_uri": "https://localhost:8080/",
          "height": 60
        },
        "id": "yY-yCXMf-3lE",
        "outputId": "8cf2c21e-2c41-4e28-e54b-00f20884dead"
      },
      "execution_count": 165,
      "outputs": [
        {
          "output_type": "execute_result",
          "data": {
            "text/latex": "$\\displaystyle \\frac{0.267949192431123 \\left(1 - 0.001 x\\right)^{2} + 1}{0.000183012701892219 x \\left(2000 - x\\right) + 500}$",
            "text/plain": [
              "(0.267949192431123*(1 - 0.001*x)**2 + 1)/(0.000183012701892219*x*(2000 - x) + 500)"
            ]
          },
          "metadata": {},
          "execution_count": 165
        }
      ]
    },
    {
      "cell_type": "code",
      "source": [
        "integrate(evaluate, (x, 0, 2000))"
      ],
      "metadata": {
        "colab": {
          "base_uri": "https://localhost:8080/",
          "height": 37
        },
        "id": "FXaTBCVE8-nh",
        "outputId": "5f395358-b890-4d2b-82b6-973977f926ec"
      },
      "execution_count": 166,
      "outputs": [
        {
          "output_type": "execute_result",
          "data": {
            "text/latex": "$\\displaystyle 3.55577268553852$",
            "text/plain": [
              "3.55577268553852"
            ]
          },
          "metadata": {},
          "execution_count": 166
        }
      ]
    },
    {
      "cell_type": "markdown",
      "source": [
        "Following the optimal path takes $3.56$ hours, and so saves $0.44$ hours of travel time. "
      ],
      "metadata": {
        "id": "MPKZHprWAvsy"
      }
    },
    {
      "cell_type": "code",
      "source": [
        ""
      ],
      "metadata": {
        "id": "k2lazp7PA9_Y"
      },
      "execution_count": null,
      "outputs": []
    }
  ]
}