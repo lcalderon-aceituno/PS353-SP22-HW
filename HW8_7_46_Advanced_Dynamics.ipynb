{
  "nbformat": 4,
  "nbformat_minor": 0,
  "metadata": {
    "colab": {
      "name": "HW8_7_46_Advanced_Dynamics.ipynb",
      "provenance": [],
      "authorship_tag": "ABX9TyNVGWATVFKHPhQ4OsuPCW8B",
      "include_colab_link": true
    },
    "kernelspec": {
      "name": "python3",
      "display_name": "Python 3"
    },
    "language_info": {
      "name": "python"
    }
  },
  "cells": [
    {
      "cell_type": "markdown",
      "metadata": {
        "id": "view-in-github",
        "colab_type": "text"
      },
      "source": [
        "<a href=\"https://colab.research.google.com/github/lcalderon-aceituno/PS353-SP22-HW/blob/main/HW8_7_46_Advanced_Dynamics.ipynb\" target=\"_parent\"><img src=\"https://colab.research.google.com/assets/colab-badge.svg\" alt=\"Open In Colab\"/></a>"
      ]
    },
    {
      "cell_type": "markdown",
      "source": [
        "# 7.46"
      ],
      "metadata": {
        "id": "0DKXizjdPOzd"
      }
    },
    {
      "cell_type": "markdown",
      "source": [
        "## part a\n",
        "\n",
        "For rotation about an axis, $\\delta U = 0$ and  $\\delta T = 0$  so $\\delta \\mathcal L = 0$. This implies\n",
        "\n",
        "$$\\delta \\mathcal L = 0 = \\epsilon \\frac{\\partial \\mathcal L}{\\partial \\phi_1} + \\epsilon \\frac{\\partial \\mathcal L}{\\partial \\phi_2} + \\epsilon \\frac{\\partial \\mathcal L}{\\partial \\phi_3} + ...$$ \n",
        " \n",
        "or  $$\\sum_{i = 1}^{\\inf}\\epsilon \\frac{\\partial \\mathcal L}{\\partial \\phi_i} = 0$$"
      ],
      "metadata": {
        "id": "JKob_5HxPS3U"
      }
    },
    {
      "cell_type": "markdown",
      "source": [
        "## part b\n",
        "\n",
        "By EL we know \n",
        "\n",
        "$$\\frac{\\partial \\mathcal L}{\\partial \\phi_i} = \\frac{d}{dt}\\frac{\\partial \\mathcal L}{\\partial \\dot{\\phi_i}} = \\frac{d}{dt}p_{i\\phi}$$\n",
        "\n",
        "so since the sum of all of the time derivatives of all of $p_{i\\phi}$ is 0, total angular momentum of each particle. Similarly, if this process is repeated for rotation about all axes, then all components of $\\bf{L}$ are conserved."
      ],
      "metadata": {
        "id": "VbabqqvgSWYW"
      }
    },
    {
      "cell_type": "markdown",
      "source": [
        "# Convert to PDF"
      ],
      "metadata": {
        "id": "FmkxHkHlTNXL"
      }
    },
    {
      "cell_type": "code",
      "source": [
        "!pip install whit-phys-util"
      ],
      "metadata": {
        "colab": {
          "base_uri": "https://localhost:8080/"
        },
        "id": "m8AExOh9TOSV",
        "outputId": "b3a30f14-083e-473c-b014-72bad98d07e3"
      },
      "execution_count": 1,
      "outputs": [
        {
          "output_type": "stream",
          "name": "stdout",
          "text": [
            "Collecting whit-phys-util\n",
            "  Downloading whit_phys_util-0.2.7-py3-none-any.whl (11 kB)\n",
            "Collecting python-dotenv>=0.10.4\n",
            "  Downloading python_dotenv-0.19.2-py2.py3-none-any.whl (17 kB)\n",
            "Collecting pydantic>=1.7.3\n",
            "  Downloading pydantic-1.9.0-cp37-cp37m-manylinux_2_17_x86_64.manylinux2014_x86_64.whl (10.9 MB)\n",
            "\u001b[K     |████████████████████████████████| 10.9 MB 5.0 MB/s \n",
            "\u001b[?25hRequirement already satisfied: typing-extensions>=3.7.4.3 in /usr/local/lib/python3.7/dist-packages (from pydantic>=1.7.3->whit-phys-util) (3.10.0.2)\n",
            "Installing collected packages: python-dotenv, pydantic, whit-phys-util\n",
            "Successfully installed pydantic-1.9.0 python-dotenv-0.19.2 whit-phys-util-0.2.7\n"
          ]
        }
      ]
    },
    {
      "cell_type": "code",
      "source": [
        "import whit_phys_util as buc"
      ],
      "metadata": {
        "colab": {
          "base_uri": "https://localhost:8080/"
        },
        "id": "pB5OSVbwTOnG",
        "outputId": "8910ac98-cd5a-44f9-ba9a-c0bf57aea5c0"
      },
      "execution_count": 2,
      "outputs": [
        {
          "output_type": "stream",
          "name": "stdout",
          "text": [
            "Mounted at /content/drive\n"
          ]
        }
      ]
    },
    {
      "cell_type": "code",
      "source": [
        "repo = buc.local_repository(\"https://github.com/lcalderon-aceituno/PS353-SP22-HW\")"
      ],
      "metadata": {
        "colab": {
          "base_uri": "https://localhost:8080/"
        },
        "id": "AniK-eo7TniE",
        "outputId": "b40f0a65-2ecf-41a6-eec2-99c9eb6a246a"
      },
      "execution_count": 4,
      "outputs": [
        {
          "output_type": "stream",
          "name": "stdout",
          "text": [
            "Cloning repository from GitHub.\n"
          ]
        }
      ]
    },
    {
      "cell_type": "code",
      "source": [
        ""
      ],
      "metadata": {
        "id": "sruPA74GTlFI"
      },
      "execution_count": null,
      "outputs": []
    }
  ]
}