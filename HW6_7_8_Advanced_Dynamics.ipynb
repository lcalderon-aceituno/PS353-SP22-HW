{
  "nbformat": 4,
  "nbformat_minor": 0,
  "metadata": {
    "colab": {
      "name": "HW6_7_8_Advanced_Dynamics.ipynb",
      "provenance": [],
      "authorship_tag": "ABX9TyM+6NmFU40d364QXJJl6VV/",
      "include_colab_link": true
    },
    "kernelspec": {
      "name": "python3",
      "display_name": "Python 3"
    },
    "language_info": {
      "name": "python"
    }
  },
  "cells": [
    {
      "cell_type": "markdown",
      "metadata": {
        "id": "view-in-github",
        "colab_type": "text"
      },
      "source": [
        "<a href=\"https://colab.research.google.com/github/lcalderon-aceituno/PS353-SP22-HW/blob/main/HW6_7_8_Advanced_Dynamics.ipynb\" target=\"_parent\"><img src=\"https://colab.research.google.com/assets/colab-badge.svg\" alt=\"Open In Colab\"/></a>"
      ]
    },
    {
      "cell_type": "markdown",
      "source": [
        "# 7.1 "
      ],
      "metadata": {
        "id": "Y_7LEC9TVwZ_"
      }
    },
    {
      "cell_type": "code",
      "execution_count": 75,
      "metadata": {
        "id": "YcLxFqcwVSFP"
      },
      "outputs": [],
      "source": [
        "from sympy import *\n",
        "from sympy.plotting import plot\n",
        "from sympy import symbols "
      ]
    },
    {
      "cell_type": "code",
      "source": [
        "x1,x2,x1dot,x2dot,k,l,m = symbols(\"x_1, x_2, \\dot{x_1}, \\dot{x_2}, k, l, m\")"
      ],
      "metadata": {
        "id": "bFsk9r_bW8LM"
      },
      "execution_count": 76,
      "outputs": []
    },
    {
      "cell_type": "markdown",
      "source": [
        "##(a) write down Lagrangian for two particles of equal mass confined to x axis and connected by a spring with potential energy $U = 1/2 k x^2$"
      ],
      "metadata": {
        "id": "fdpHwdDIYef3"
      }
    },
    {
      "cell_type": "code",
      "source": [
        "U = 1/2*k*(x1 - x2 - l)**2 # define potential energy of system"
      ],
      "metadata": {
        "id": "83yF0-OeWhjO"
      },
      "execution_count": 77,
      "outputs": []
    },
    {
      "cell_type": "code",
      "source": [
        "T = 1/2*m*(x1dot**2 + x2dot**2) # define kinetic energy of system "
      ],
      "metadata": {
        "id": "TA94-NGIX4Ha"
      },
      "execution_count": 78,
      "outputs": []
    },
    {
      "cell_type": "code",
      "source": [
        "lagrangian = T - U\n",
        "lagrangian"
      ],
      "metadata": {
        "colab": {
          "base_uri": "https://localhost:8080/",
          "height": 40
        },
        "id": "9gso2jUIYGZe",
        "outputId": "23efae3f-a0ee-406c-cb0f-3ecb2b1e3b5e"
      },
      "execution_count": 79,
      "outputs": [
        {
          "output_type": "execute_result",
          "data": {
            "text/latex": "$\\displaystyle - 0.5 k \\left(- l + x_{1} - x_{2}\\right)^{2} + 0.5 m \\left(\\dot{x_1}^{2} + \\dot{x_2}^{2}\\right)$",
            "text/plain": [
              "-0.5*k*(-l + x_1 - x_2)**2 + 0.5*m*(\\dot{x_1}**2 + \\dot{x_2}**2)"
            ]
          },
          "metadata": {},
          "execution_count": 79
        }
      ]
    },
    {
      "cell_type": "markdown",
      "source": [
        "##(b) rewrite $\\mathcal{L}$ in terms of the new variables $X = 1/2(x_1 + x_2)$ and $x$ (the extension), and write down the two Lagrange equations for $X$ and $x$"
      ],
      "metadata": {
        "id": "afeEgbpVYgPm"
      }
    },
    {
      "cell_type": "code",
      "source": [
        "X, Xdot, x, xdot, xdotdot, Xdotdot, t = symbols(\"X, \\dot{X}, x, \\dot{x},\\ddot{x},\\ddot{X}, t\")"
      ],
      "metadata": {
        "id": "iXHf9cRLaxUb"
      },
      "execution_count": 80,
      "outputs": []
    },
    {
      "cell_type": "code",
      "source": [
        "bigX = 1/2*(x1+x2)\n",
        "bigXdot = 1/2*(x1dot +x2dot)\n",
        "bigXdot**2"
      ],
      "metadata": {
        "colab": {
          "base_uri": "https://localhost:8080/",
          "height": 38
        },
        "id": "nxxPKZvM-fwm",
        "outputId": "9c88539d-5331-49e6-9029-0611c3aca75f"
      },
      "execution_count": 81,
      "outputs": [
        {
          "output_type": "execute_result",
          "data": {
            "text/latex": "$\\displaystyle 0.25 \\left(\\dot{x_1} + \\dot{x_2}\\right)^{2}$",
            "text/plain": [
              "0.25*(\\dot{x_1} + \\dot{x_2})**2"
            ]
          },
          "metadata": {},
          "execution_count": 81
        }
      ]
    },
    {
      "cell_type": "code",
      "source": [
        "smallx = -l + x1 - x2\n",
        "smallxdot = x1dot - x2dot\n",
        "smallxdot_sq = smallxdot**2"
      ],
      "metadata": {
        "id": "YURFOqIS-uBD"
      },
      "execution_count": 82,
      "outputs": []
    },
    {
      "cell_type": "code",
      "source": [
        "exp = bigX**2 + 1/4*(smallxdot_sq)\n",
        "exp.expand()"
      ],
      "metadata": {
        "colab": {
          "base_uri": "https://localhost:8080/",
          "height": 38
        },
        "id": "9pk5jcUt-6tc",
        "outputId": "98634c6d-f399-45f8-ae78-d0d51c85d712"
      },
      "execution_count": 83,
      "outputs": [
        {
          "output_type": "execute_result",
          "data": {
            "text/latex": "$\\displaystyle 0.25 \\dot{x_1}^{2} - 0.5 \\dot{x_1} \\dot{x_2} + 0.25 \\dot{x_2}^{2} + 0.25 x_{1}^{2} + 0.5 x_{1} x_{2} + 0.25 x_{2}^{2}$",
            "text/plain": [
              "0.25*\\dot{x_1}**2 - 0.5*\\dot{x_1}*\\dot{x_2} + 0.25*\\dot{x_2}**2 + 0.25*x_1**2 + 0.5*x_1*x_2 + 0.25*x_2**2"
            ]
          },
          "metadata": {},
          "execution_count": 83
        }
      ]
    },
    {
      "cell_type": "markdown",
      "source": [
        "We know $X = 1/2(x_1 + x_2)$ so $\\dot{X} = 1/2(\\dot{x_1} + \\dot{x_2})$ and $\\dot{X}^2 = 1/4(\\dot{x_1}^2 +2\\dot{x_1}\\dot{x_2}+ \\dot{x_2}^2)$ \n",
        "\n",
        "We also have $\\dot{x} = \\dot{x_1}-\\dot{x_2}$ and $\\dot{x}^2 = \\dot{x_1}^2+\\dot{x_2}^2$ so $$\\dot{X}^2 + 1/4\\dot{x}^2 = 1/4(\\dot{x_1}^2 +2\\dot{x_1}\\dot{x_2}+ \\dot{x_2}^2) = 1/4(\\dot{x_1}^2 +\\dot{x_2}^2)$$\n",
        "\n",
        "and Lagrangian can be written as "
      ],
      "metadata": {
        "id": "8QS7F5Q-6XYp"
      }
    },
    {
      "cell_type": "code",
      "source": [
        "switch_lagrange = m*(Xdot**2 + 1/4*xdot**2) - 1/2*k*x**2 \n",
        "switch_lagrange"
      ],
      "metadata": {
        "colab": {
          "base_uri": "https://localhost:8080/",
          "height": 47
        },
        "id": "zkTY7RIYaCZU",
        "outputId": "cebfc13b-c605-4795-d48f-e3cb77a0875e"
      },
      "execution_count": 84,
      "outputs": [
        {
          "output_type": "execute_result",
          "data": {
            "text/latex": "$\\displaystyle - 0.5 k x^{2} + m \\left(\\dot{X}^{2} + 0.25 \\dot{x}^{2}\\right)$",
            "text/plain": [
              "-0.5*k*x**2 + m*(\\dot{X}**2 + 0.25*\\dot{x}**2)"
            ]
          },
          "metadata": {},
          "execution_count": 84
        }
      ]
    },
    {
      "cell_type": "markdown",
      "source": [
        "### Lagrangian for $x$"
      ],
      "metadata": {
        "id": "1o8a5DJlKg_g"
      }
    },
    {
      "cell_type": "code",
      "source": [
        "LHSx = diff(switch_lagrange, x)\n",
        "RHSx = diff(switch_lagrange,xdot)"
      ],
      "metadata": {
        "id": "DlNj5vejam7p"
      },
      "execution_count": 85,
      "outputs": []
    },
    {
      "cell_type": "code",
      "source": [
        "RHSx = 0.5*xdotdot*m # take time derivative"
      ],
      "metadata": {
        "id": "Prxy22-aKooO"
      },
      "execution_count": 86,
      "outputs": []
    },
    {
      "cell_type": "code",
      "source": [
        "lagx = LHSx - RHSx # calculate lagrangian"
      ],
      "metadata": {
        "id": "QX-m2z9vK7e0"
      },
      "execution_count": 87,
      "outputs": []
    },
    {
      "cell_type": "code",
      "source": [
        "solve(lagx, xdotdot) # solve lagrangian for xdotdot"
      ],
      "metadata": {
        "colab": {
          "base_uri": "https://localhost:8080/"
        },
        "id": "VsJEwcXBMdBR",
        "outputId": "1fea7e9e-3c0b-4331-eefd-d62fd823cdbf"
      },
      "execution_count": 88,
      "outputs": [
        {
          "output_type": "execute_result",
          "data": {
            "text/plain": [
              "[-2.0*k*x/m]"
            ]
          },
          "metadata": {},
          "execution_count": 88
        }
      ]
    },
    {
      "cell_type": "markdown",
      "source": [
        "So we have $\\ddot{x} = -2 \\frac{k}{m} x$"
      ],
      "metadata": {
        "id": "Ea4sq2PaMhId"
      }
    },
    {
      "cell_type": "markdown",
      "source": [
        "### Lagrangian for $X$"
      ],
      "metadata": {
        "id": "liuFS-zlM6vY"
      }
    },
    {
      "cell_type": "code",
      "source": [
        "LHSX = diff(switch_lagrange, X)\n",
        "RHSX = diff(switch_lagrange,Xdot)\n",
        "RHSX"
      ],
      "metadata": {
        "colab": {
          "base_uri": "https://localhost:8080/",
          "height": 39
        },
        "id": "isrUKfL2MfEI",
        "outputId": "9f4da7d6-078a-4fee-d6b9-129231ff2210"
      },
      "execution_count": 89,
      "outputs": [
        {
          "output_type": "execute_result",
          "data": {
            "text/latex": "$\\displaystyle 2 \\dot{X} m$",
            "text/plain": [
              "2*\\dot{X}*m"
            ]
          },
          "metadata": {},
          "execution_count": 89
        }
      ]
    },
    {
      "cell_type": "code",
      "source": [
        "RHSX = 2*Xdotdot*m"
      ],
      "metadata": {
        "id": "NNDgdUvUNAh4"
      },
      "execution_count": 90,
      "outputs": []
    },
    {
      "cell_type": "code",
      "source": [
        "lagX = LHSX - RHSX # calculate lagrangian"
      ],
      "metadata": {
        "id": "5nR0ISjPNI5x"
      },
      "execution_count": 91,
      "outputs": []
    },
    {
      "cell_type": "code",
      "source": [
        "solve(lagx, Xdotdot) # solve lagrangian for Xdotdot"
      ],
      "metadata": {
        "colab": {
          "base_uri": "https://localhost:8080/"
        },
        "id": "B_WYoFqZNLYu",
        "outputId": "ef32cf23-eab7-48fc-e7bc-745f80c7d02c"
      },
      "execution_count": 92,
      "outputs": [
        {
          "output_type": "execute_result",
          "data": {
            "text/plain": [
              "[]"
            ]
          },
          "metadata": {},
          "execution_count": 92
        }
      ]
    },
    {
      "cell_type": "markdown",
      "source": [
        "Lagrangian for $X$ gives us we have $\\ddot{x} = 0$"
      ],
      "metadata": {
        "id": "XJ5abnFSNQs2"
      }
    },
    {
      "cell_type": "markdown",
      "source": [
        "##(c) solve for $X(t)$ and $x(t)$ and describe the motion"
      ],
      "metadata": {
        "id": "uAXOXdqKNeCS"
      }
    },
    {
      "cell_type": "markdown",
      "source": [
        "From the Lagrangian for $x$, we can get $x(t)$"
      ],
      "metadata": {
        "id": "tDMd8lbeLwcB"
      }
    },
    {
      "cell_type": "code",
      "source": [
        "xsoln = Function('x')(t)\n",
        "dxdt = diff(xsoln, t)\n",
        "ddxdt = diff(dxdt, t)\n",
        "expr = Eq(ddxdt, -2*k/m*xsoln)\n",
        "expr"
      ],
      "metadata": {
        "colab": {
          "base_uri": "https://localhost:8080/",
          "height": 54
        },
        "id": "yU3L_7NhJg0l",
        "outputId": "f13a36c1-57a9-40dd-c142-860ef3a4f4d9"
      },
      "execution_count": 95,
      "outputs": [
        {
          "output_type": "execute_result",
          "data": {
            "text/latex": "$\\displaystyle \\frac{d^{2}}{d t^{2}} x{\\left(t \\right)} = - \\frac{2 k x{\\left(t \\right)}}{m}$",
            "text/plain": [
              "Eq(Derivative(x(t), (t, 2)), -2*k*x(t)/m)"
            ]
          },
          "metadata": {},
          "execution_count": 95
        }
      ]
    },
    {
      "cell_type": "code",
      "source": [
        "dsolve(expr)"
      ],
      "metadata": {
        "colab": {
          "base_uri": "https://localhost:8080/",
          "height": 43
        },
        "id": "Njpv79LSJnQT",
        "outputId": "0a331b84-3690-4c0a-89b5-078949f41de5"
      },
      "execution_count": 94,
      "outputs": [
        {
          "output_type": "execute_result",
          "data": {
            "text/latex": "$\\displaystyle x{\\left(t \\right)} = C_{1} e^{- \\sqrt{2} t \\sqrt{- \\frac{k}{m}}} + C_{2} e^{\\sqrt{2} t \\sqrt{- \\frac{k}{m}}}$",
            "text/plain": [
              "Eq(x(t), C1*exp(-sqrt(2)*t*sqrt(-k/m)) + C2*exp(sqrt(2)*t*sqrt(-k/m)))"
            ]
          },
          "metadata": {},
          "execution_count": 94
        }
      ]
    },
    {
      "cell_type": "markdown",
      "source": [
        "So $x(t)$ describes sinusoidal motion of the particles.\n",
        "\n",
        "Then we can easily solve $\\ddot{X(t)} = 0$  for $X(t) = ct + b$ (for constants $c, b$), which reveals free motion of the particles according to $d = v t + d_0$."
      ],
      "metadata": {
        "id": "Y9de0kBTOZo9"
      }
    },
    {
      "cell_type": "markdown",
      "source": [
        "# Saving to PDF"
      ],
      "metadata": {
        "id": "yuy_75hWOUVX"
      }
    },
    {
      "cell_type": "code",
      "source": [
        "!pip install whit-phys-util"
      ],
      "metadata": {
        "colab": {
          "base_uri": "https://localhost:8080/"
        },
        "id": "MTkIgsslQISX",
        "outputId": "f908f3c5-f678-456f-df9b-754eccd2c92f"
      },
      "execution_count": 97,
      "outputs": [
        {
          "output_type": "stream",
          "name": "stdout",
          "text": [
            "Collecting whit-phys-util\n",
            "  Downloading whit_phys_util-0.2.7-py3-none-any.whl (11 kB)\n",
            "Collecting python-dotenv>=0.10.4\n",
            "  Downloading python_dotenv-0.19.2-py2.py3-none-any.whl (17 kB)\n",
            "Collecting pydantic>=1.7.3\n",
            "  Downloading pydantic-1.9.0-cp37-cp37m-manylinux_2_17_x86_64.manylinux2014_x86_64.whl (10.9 MB)\n",
            "\u001b[K     |████████████████████████████████| 10.9 MB 26.6 MB/s \n",
            "\u001b[?25hRequirement already satisfied: typing-extensions>=3.7.4.3 in /usr/local/lib/python3.7/dist-packages (from pydantic>=1.7.3->whit-phys-util) (3.10.0.2)\n",
            "Installing collected packages: python-dotenv, pydantic, whit-phys-util\n",
            "Successfully installed pydantic-1.9.0 python-dotenv-0.19.2 whit-phys-util-0.2.7\n"
          ]
        }
      ]
    },
    {
      "cell_type": "code",
      "source": [
        "import whit_phys_util as buc"
      ],
      "metadata": {
        "colab": {
          "base_uri": "https://localhost:8080/"
        },
        "id": "tEwedlmsQMFh",
        "outputId": "95ca41eb-aceb-49a7-c819-7f2fac417a4a"
      },
      "execution_count": 98,
      "outputs": [
        {
          "output_type": "stream",
          "name": "stdout",
          "text": [
            "Mounted at /content/drive\n"
          ]
        }
      ]
    },
    {
      "cell_type": "code",
      "source": [
        "repo = buc.local_repository(\"https://github.com/lcalderon-aceituno/PS353-SP22-HW\")"
      ],
      "metadata": {
        "colab": {
          "base_uri": "https://localhost:8080/"
        },
        "id": "sUR-4yLmOT3U",
        "outputId": "c46f335f-0b31-4daa-977b-2fb97d1a1726"
      },
      "execution_count": 99,
      "outputs": [
        {
          "output_type": "stream",
          "name": "stdout",
          "text": [
            "Cloning repository from GitHub.\n"
          ]
        }
      ]
    },
    {
      "cell_type": "code",
      "source": [
        "buc.notebook_to_pdf(repo, author=\"Lydia Calderon-Aceituno\", title=\"HW7.8\")"
      ],
      "metadata": {
        "colab": {
          "base_uri": "https://localhost:8080/",
          "height": 218
        },
        "id": "HQNZ72g_QSeh",
        "outputId": "e5b6cc73-f76c-4bf8-a7c6-9cb6a04a6aa4"
      },
      "execution_count": 100,
      "outputs": [
        {
          "output_type": "stream",
          "name": "stdout",
          "text": [
            "Installing required packages. This often takes 1-2 minutes.\n",
            "Preparing to convert 'HW6_7_8_Advanced_Dynamics.ipynb'\n",
            "jupyter nbconvert --output-dir='/tmp' '/tmp/HW6_7_8_Advanced_Dynamics.ipynb' --to pdf\n",
            "[NbConvertApp] Converting notebook /tmp/HW6_7_8_Advanced_Dynamics.ipynb to pdf\n",
            "[NbConvertApp] Writing 34791 bytes to ./notebook.tex\n",
            "[NbConvertApp] Building PDF\n",
            "[NbConvertApp] Running xelatex 3 times: [u'xelatex', u'./notebook.tex', '-quiet']\n",
            "[NbConvertApp] Running bibtex 1 time: [u'bibtex', u'./notebook']\n",
            "[NbConvertApp] WARNING | bibtex had problems, most likely because there were no citations\n",
            "[NbConvertApp] PDF successfully created\n",
            "[NbConvertApp] Writing 40332 bytes to /tmp/HW6_7_8_Advanced_Dynamics.pdf\n"
          ]
        },
        {
          "output_type": "display_data",
          "data": {
            "application/javascript": [
              "\n",
              "    async function download(id, filename, size) {\n",
              "      if (!google.colab.kernel.accessAllowed) {\n",
              "        return;\n",
              "      }\n",
              "      const div = document.createElement('div');\n",
              "      const label = document.createElement('label');\n",
              "      label.textContent = `Downloading \"${filename}\": `;\n",
              "      div.appendChild(label);\n",
              "      const progress = document.createElement('progress');\n",
              "      progress.max = size;\n",
              "      div.appendChild(progress);\n",
              "      document.body.appendChild(div);\n",
              "\n",
              "      const buffers = [];\n",
              "      let downloaded = 0;\n",
              "\n",
              "      const channel = await google.colab.kernel.comms.open(id);\n",
              "      // Send a message to notify the kernel that we're ready.\n",
              "      channel.send({})\n",
              "\n",
              "      for await (const message of channel.messages) {\n",
              "        // Send a message to notify the kernel that we're ready.\n",
              "        channel.send({})\n",
              "        if (message.buffers) {\n",
              "          for (const buffer of message.buffers) {\n",
              "            buffers.push(buffer);\n",
              "            downloaded += buffer.byteLength;\n",
              "            progress.value = downloaded;\n",
              "          }\n",
              "        }\n",
              "      }\n",
              "      const blob = new Blob(buffers, {type: 'application/binary'});\n",
              "      const a = document.createElement('a');\n",
              "      a.href = window.URL.createObjectURL(blob);\n",
              "      a.download = filename;\n",
              "      div.appendChild(a);\n",
              "      a.click();\n",
              "      div.remove();\n",
              "    }\n",
              "  "
            ],
            "text/plain": [
              "<IPython.core.display.Javascript object>"
            ]
          },
          "metadata": {}
        },
        {
          "output_type": "display_data",
          "data": {
            "application/javascript": [
              "download(\"download_1549b276-9f7b-455f-9fa2-9132a656bdf7\", \"HW6_7_8_Advanced_Dynamics.pdf\", 40332)"
            ],
            "text/plain": [
              "<IPython.core.display.Javascript object>"
            ]
          },
          "metadata": {}
        }
      ]
    },
    {
      "cell_type": "code",
      "source": [
        ""
      ],
      "metadata": {
        "id": "hlL6xovFOrHU"
      },
      "execution_count": null,
      "outputs": []
    }
  ]
}