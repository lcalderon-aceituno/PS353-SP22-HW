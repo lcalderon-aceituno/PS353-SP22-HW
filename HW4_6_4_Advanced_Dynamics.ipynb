{
  "nbformat": 4,
  "nbformat_minor": 0,
  "metadata": {
    "colab": {
      "name": "HW4_6_4_Advanced_Dynamics",
      "provenance": [],
      "authorship_tag": "ABX9TyMy2SO2E2wRB3zoO6+UNcv4",
      "include_colab_link": true
    },
    "kernelspec": {
      "name": "python3",
      "display_name": "Python 3"
    },
    "language_info": {
      "name": "python"
    }
  },
  "cells": [
    {
      "cell_type": "markdown",
      "metadata": {
        "id": "view-in-github",
        "colab_type": "text"
      },
      "source": [
        "<a href=\"https://colab.research.google.com/github/lcalderon-aceituno/PS353-SP22-HW/blob/main/HW4_6_4_Advanced_Dynamics.ipynb\" target=\"_parent\"><img src=\"https://colab.research.google.com/assets/colab-badge.svg\" alt=\"Open In Colab\"/></a>"
      ]
    },
    {
      "cell_type": "markdown",
      "source": [
        "# 6.4 A ray of light travels from point $P_1$ in a medium of refractive index $n_1$ to $P_2$ in a medium of index $n_2$, by way of the point $Q$ on the plane interface between the two media, as shown in Fig 6.9. Show that Fermat’s principle implies that, on the actual path followed, $Q$ lies in the same vertical plane as $P_1$ and $P_2$ and obeys Snell’s law, that $n_1 sin(\\theta_1) = n_2 sin(\\theta_2)$. [Hints: let the interface be the xz plane, and let $P_1$ lie on the y axis at $(0,h1, 0)$ and $P_2$ in thexyplane at $(x2,-h2,0)$. Finally let $Q= (x,0, z)$. Calculate the time for the light to traverse the path $P_1 Q P_2$ and show that it is minimum when Q has $z= 0$ and satisfies Snell’s law]"
      ],
      "metadata": {
        "id": "pBd7Gm6DoB1_"
      }
    },
    {
      "cell_type": "code",
      "execution_count": 1,
      "metadata": {
        "colab": {
          "base_uri": "https://localhost:8080/"
        },
        "id": "6froaZTrn-UF",
        "outputId": "d8050f4b-2464-406a-aa18-55c299b3a27d"
      },
      "outputs": [
        {
          "output_type": "stream",
          "name": "stdout",
          "text": [
            "Collecting whit-phys-util\n",
            "  Downloading whit_phys_util-0.2.7-py3-none-any.whl (11 kB)\n",
            "Collecting python-dotenv>=0.10.4\n",
            "  Downloading python_dotenv-0.19.2-py2.py3-none-any.whl (17 kB)\n",
            "Collecting pydantic>=1.7.3\n",
            "  Downloading pydantic-1.9.0-cp37-cp37m-manylinux_2_17_x86_64.manylinux2014_x86_64.whl (10.9 MB)\n",
            "\u001b[K     |████████████████████████████████| 10.9 MB 5.3 MB/s \n",
            "\u001b[?25hRequirement already satisfied: typing-extensions>=3.7.4.3 in /usr/local/lib/python3.7/dist-packages (from pydantic>=1.7.3->whit-phys-util) (3.10.0.2)\n",
            "Installing collected packages: python-dotenv, pydantic, whit-phys-util\n",
            "Successfully installed pydantic-1.9.0 python-dotenv-0.19.2 whit-phys-util-0.2.7\n"
          ]
        }
      ],
      "source": [
        "!pip install whit-phys-util"
      ]
    },
    {
      "cell_type": "code",
      "source": [
        "from sympy import *"
      ],
      "metadata": {
        "id": "i0JlnIOSp-52"
      },
      "execution_count": 2,
      "outputs": []
    },
    {
      "cell_type": "code",
      "source": [
        "import whit_phys_util as buc"
      ],
      "metadata": {
        "colab": {
          "base_uri": "https://localhost:8080/"
        },
        "id": "c08pTzVyqDIX",
        "outputId": "05b55a02-315a-402a-fc09-ae1671835e8b"
      },
      "execution_count": 3,
      "outputs": [
        {
          "output_type": "stream",
          "name": "stdout",
          "text": [
            "Mounted at /content/drive\n"
          ]
        }
      ]
    },
    {
      "cell_type": "markdown",
      "source": [
        "## Finding minimum travel time"
      ],
      "metadata": {
        "id": "RTJ00cD0yIJ_"
      }
    },
    {
      "cell_type": "code",
      "source": [
        "var('n1 n2 P1 P2 c h1 h2 z x2 x') # create symbols"
      ],
      "metadata": {
        "colab": {
          "base_uri": "https://localhost:8080/"
        },
        "id": "VjpRa6KDqE4W",
        "outputId": "e2b7bb05-8bcf-49d1-c275-33c1e105c21c"
      },
      "execution_count": 4,
      "outputs": [
        {
          "output_type": "execute_result",
          "data": {
            "text/plain": [
              "(n1, n2, P1, P2, c, h1, h2, z, x2, x)"
            ]
          },
          "metadata": {},
          "execution_count": 4
        }
      ]
    },
    {
      "cell_type": "markdown",
      "source": [
        "Length from $P_1$ to $Q$ is \n",
        "$L_1 = \\sqrt(x^2+h_1^2+z^2)$\n",
        "\n",
        "Length from $P_2$ to $Q$ is \n",
        "$L_2 = \\sqrt((x_2 - x)^2+h_2^2+z^2)$"
      ],
      "metadata": {
        "id": "lRjthBjAr67K"
      }
    },
    {
      "cell_type": "code",
      "source": [
        "L1 = sqrt(x**2+h1**2+z**2)\n",
        "L2 = sqrt((x2-x)**2 + h2**2 +z**2)"
      ],
      "metadata": {
        "id": "6IBP69SNqa4T"
      },
      "execution_count": 5,
      "outputs": []
    },
    {
      "cell_type": "markdown",
      "source": [
        "Time from $P_1$ to $Q$ is given by \n",
        "$T_1 = L_1 * \\frac{n_1}{c}$"
      ],
      "metadata": {
        "id": "FrnReE8aupPL"
      }
    },
    {
      "cell_type": "code",
      "source": [
        "T1 = L1*n1/c"
      ],
      "metadata": {
        "id": "yo5h0rgruymb"
      },
      "execution_count": 6,
      "outputs": []
    },
    {
      "cell_type": "markdown",
      "source": [
        "Time from $P_2$ to $Q$ is given by \n",
        "$T_2 = L_2 * \\frac{n_2}{c}$"
      ],
      "metadata": {
        "id": "WS5P4rxxu5PU"
      }
    },
    {
      "cell_type": "code",
      "source": [
        "T2 = L2*n2/c"
      ],
      "metadata": {
        "id": "zl6kWbzutvds"
      },
      "execution_count": 7,
      "outputs": []
    },
    {
      "cell_type": "markdown",
      "source": [
        "Total time is the sum of these two"
      ],
      "metadata": {
        "id": "ZprNk91tvBPN"
      }
    },
    {
      "cell_type": "code",
      "source": [
        "T = T1 + T2 \n",
        "T.simplify()"
      ],
      "metadata": {
        "colab": {
          "base_uri": "https://localhost:8080/",
          "height": 67
        },
        "id": "_ds7dAeWu-Ez",
        "outputId": "7f1470aa-8c4f-46b0-f44c-86b11ef4c92e"
      },
      "execution_count": 8,
      "outputs": [
        {
          "output_type": "execute_result",
          "data": {
            "text/latex": "$\\displaystyle \\frac{n_{1} \\sqrt{h_{1}^{2} + x^{2} + z^{2}} + n_{2} \\sqrt{h_{2}^{2} + z^{2} + \\left(x - x_{2}\\right)^{2}}}{c}$",
            "text/plain": [
              "(n1*sqrt(h1**2 + x**2 + z**2) + n2*sqrt(h2**2 + z**2 + (x - x2)**2))/c"
            ]
          },
          "metadata": {},
          "execution_count": 8
        }
      ]
    },
    {
      "cell_type": "markdown",
      "source": [
        "Per the hint, our next step is to minimize this by taking $\\frac{dT}{dz}$ "
      ],
      "metadata": {
        "id": "vWGL6eXlviQr"
      }
    },
    {
      "cell_type": "code",
      "source": [
        "dT = diff(T,z)\n",
        "dT.simplify()"
      ],
      "metadata": {
        "colab": {
          "base_uri": "https://localhost:8080/",
          "height": 65
        },
        "id": "aMX8LbjwvFgP",
        "outputId": "44cf6e7d-bcd7-45f9-9917-95f43354bba6"
      },
      "execution_count": 9,
      "outputs": [
        {
          "output_type": "execute_result",
          "data": {
            "text/latex": "$\\displaystyle \\frac{n_{1} z}{c \\sqrt{h_{1}^{2} + x^{2} + z^{2}}} + \\frac{n_{2} z}{c \\sqrt{h_{2}^{2} + z^{2} + \\left(x - x_{2}\\right)^{2}}}$",
            "text/plain": [
              "n1*z/(c*sqrt(h1**2 + x**2 + z**2)) + n2*z/(c*sqrt(h2**2 + z**2 + (x - x2)**2))"
            ]
          },
          "metadata": {},
          "execution_count": 9
        }
      ]
    },
    {
      "cell_type": "markdown",
      "source": [
        "The above expression is minimized to $0$ when $z = 0$, so minimum travel time is acheived when $Q$ lies in the same vertical plane as $P_1$ and $P_2$."
      ],
      "metadata": {
        "id": "tvKE4hksv1AQ"
      }
    },
    {
      "cell_type": "markdown",
      "source": [
        "Minimum travel time expression:"
      ],
      "metadata": {
        "id": "CXBwRiBsyEK6"
      }
    },
    {
      "cell_type": "code",
      "source": [
        "T_min = T.subs(z,0)\n",
        "T_min"
      ],
      "metadata": {
        "colab": {
          "base_uri": "https://localhost:8080/",
          "height": 67
        },
        "id": "h-tuY39NwWJs",
        "outputId": "48e1db22-95e7-495c-ae7f-e0659209286d"
      },
      "execution_count": 10,
      "outputs": [
        {
          "output_type": "execute_result",
          "data": {
            "text/latex": "$\\displaystyle \\frac{n_{1} \\sqrt{h_{1}^{2} + x^{2}}}{c} + \\frac{n_{2} \\sqrt{h_{2}^{2} + \\left(- x + x_{2}\\right)^{2}}}{c}$",
            "text/plain": [
              "n1*sqrt(h1**2 + x**2)/c + n2*sqrt(h2**2 + (-x + x2)**2)/c"
            ]
          },
          "metadata": {},
          "execution_count": 10
        }
      ]
    },
    {
      "cell_type": "markdown",
      "source": [
        "## Snell's law"
      ],
      "metadata": {
        "id": "iXPHknlyyKki"
      }
    },
    {
      "cell_type": "markdown",
      "source": [
        "Symbolically calculate $\\sin(\\theta_1)$ and $\\sin(\\theta_2)$"
      ],
      "metadata": {
        "id": "XzzaUD8IzEYh"
      }
    },
    {
      "cell_type": "code",
      "source": [
        "sin1 = x / sqrt(x**2 + h1**2)\n",
        "sin2 = (x2 - x)/ sqrt((x2-x)**2 + h2**2)"
      ],
      "metadata": {
        "id": "QRB33qoEwz_k"
      },
      "execution_count": 11,
      "outputs": []
    },
    {
      "cell_type": "markdown",
      "source": [
        "Then Snell's law tells us that "
      ],
      "metadata": {
        "id": "9CtYEWjvzLhz"
      }
    },
    {
      "cell_type": "code",
      "source": [
        "n1*sin1"
      ],
      "metadata": {
        "colab": {
          "base_uri": "https://localhost:8080/",
          "height": 55
        },
        "id": "-Nd5mOF2ygsy",
        "outputId": "347851fa-ea88-4d34-bdb7-0eba56f8ac96"
      },
      "execution_count": 12,
      "outputs": [
        {
          "output_type": "execute_result",
          "data": {
            "text/latex": "$\\displaystyle \\frac{n_{1} x}{\\sqrt{h_{1}^{2} + x^{2}}}$",
            "text/plain": [
              "n1*x/sqrt(h1**2 + x**2)"
            ]
          },
          "metadata": {},
          "execution_count": 12
        }
      ]
    },
    {
      "cell_type": "markdown",
      "source": [
        "should be equal to "
      ],
      "metadata": {
        "id": "T-K77i58zVd-"
      }
    },
    {
      "cell_type": "code",
      "source": [
        "n2*sin2"
      ],
      "metadata": {
        "colab": {
          "base_uri": "https://localhost:8080/",
          "height": 71
        },
        "id": "CqMddEKyzPKH",
        "outputId": "cc9ca593-b91c-4ad5-e832-3a714406efb9"
      },
      "execution_count": 13,
      "outputs": [
        {
          "output_type": "execute_result",
          "data": {
            "text/latex": "$\\displaystyle \\frac{n_{2} \\left(- x + x_{2}\\right)}{\\sqrt{h_{2}^{2} + \\left(- x + x_{2}\\right)^{2}}}$",
            "text/plain": [
              "n2*(-x + x2)/sqrt(h2**2 + (-x + x2)**2)"
            ]
          },
          "metadata": {},
          "execution_count": 13
        }
      ]
    },
    {
      "cell_type": "markdown",
      "source": [
        "we can get to this same expression by minimizing $x$"
      ],
      "metadata": {
        "id": "NQ3DO4m2-B40"
      }
    },
    {
      "cell_type": "code",
      "source": [
        "dTx = diff(T_min, x)\n",
        "dTx"
      ],
      "metadata": {
        "colab": {
          "base_uri": "https://localhost:8080/",
          "height": 71
        },
        "id": "kGzc2KDAzSPf",
        "outputId": "93b348bc-81c8-4878-d5d0-dd883435bb11"
      },
      "execution_count": 14,
      "outputs": [
        {
          "output_type": "execute_result",
          "data": {
            "text/latex": "$\\displaystyle \\frac{n_{1} x}{c \\sqrt{h_{1}^{2} + x^{2}}} + \\frac{n_{2} \\left(x - x_{2}\\right)}{c \\sqrt{h_{2}^{2} + \\left(- x + x_{2}\\right)^{2}}}$",
            "text/plain": [
              "n1*x/(c*sqrt(h1**2 + x**2)) + n2*(x - x2)/(c*sqrt(h2**2 + (-x + x2)**2))"
            ]
          },
          "metadata": {},
          "execution_count": 14
        }
      ]
    },
    {
      "cell_type": "markdown",
      "source": [
        "If we take this expression and set it equal to $0$, we see that it satisfies Snell's law.\n",
        "\n",
        "$$ \\frac{n_1 x}{ \\sqrt(h_1^2+x^2)}  = \\frac{n_2(x_2-x)}{\\sqrt(h_2^2+(x_2-x)^2} $$"
      ],
      "metadata": {
        "id": "AGqvNpex-Xuj"
      }
    }
  ]
}