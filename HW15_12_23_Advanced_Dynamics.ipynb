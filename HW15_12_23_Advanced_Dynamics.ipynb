{
  "nbformat": 4,
  "nbformat_minor": 0,
  "metadata": {
    "colab": {
      "name": "HW15_12_23_Advanced_Dynamics.ipynb",
      "provenance": [],
      "authorship_tag": "ABX9TyOh/SAo/jCTrvn/Z0bcg7G9",
      "include_colab_link": true
    },
    "kernelspec": {
      "name": "python3",
      "display_name": "Python 3"
    },
    "language_info": {
      "name": "python"
    }
  },
  "cells": [
    {
      "cell_type": "markdown",
      "metadata": {
        "id": "view-in-github",
        "colab_type": "text"
      },
      "source": [
        "<a href=\"https://colab.research.google.com/github/lcalderon-aceituno/PS353-SP22-HW/blob/main/HW15_12_23_Advanced_Dynamics.ipynb\" target=\"_parent\"><img src=\"https://colab.research.google.com/assets/colab-badge.svg\" alt=\"Open In Colab\"/></a>"
      ]
    },
    {
      "cell_type": "code",
      "execution_count": null,
      "metadata": {
        "cellView": "form",
        "id": "sWgPdow14aEI"
      },
      "outputs": [],
      "source": [
        "#@title Import dependencies \n",
        "from sympy import *\n",
        "from sympy.plotting import plot\n",
        "from sympy import symbols\n",
        "import numpy as np\n",
        "from scipy.integrate import solve_ivp\n",
        "import matplotlib.pyplot as plt\n",
        "import pandas as pd\n",
        "from sympy import Function,plot_parametric\n",
        "from scipy.optimize import fsolve"
      ]
    },
    {
      "cell_type": "markdown",
      "source": [
        "# 12.23"
      ],
      "metadata": {
        "id": "QqU_9UxmTrkv"
      }
    },
    {
      "cell_type": "markdown",
      "source": [
        "## part a"
      ],
      "metadata": {
        "id": "MTTDgm8OYwk0"
      }
    },
    {
      "cell_type": "code",
      "source": [
        "f = []\n",
        "f1 = []\n",
        "f2 = []\n",
        "r = np.linspace(0,1,5)\n",
        "x = np.linspace(0,1, 100)\n",
        "for xpoint in x:\n",
        "  f.append(r[0]*sin(pi*xpoint))\n",
        "  f1.append(r[1]*sin(pi*xpoint))\n",
        "  f2.append(r[2]*sin(pi*xpoint))"
      ],
      "metadata": {
        "id": "mb6-fEVmTs3b"
      },
      "execution_count": null,
      "outputs": []
    },
    {
      "cell_type": "code",
      "source": [
        "plt.plot(x,f);\n",
        "plt.plot(x,f1);\n",
        "plt.plot(x,f2);\n",
        "plt.plot(x, x);"
      ],
      "metadata": {
        "colab": {
          "base_uri": "https://localhost:8080/",
          "height": 265
        },
        "id": "3BLRKjd0UOZT",
        "outputId": "d55e4ff0-45e7-4e8a-cf58-65eb231c935b"
      },
      "execution_count": null,
      "outputs": [
        {
          "output_type": "display_data",
          "data": {
            "text/plain": [
              "<Figure size 432x288 with 1 Axes>"
            ],
            "image/png": "[encoded data removed]"
          },
          "metadata": {
            "needs_background": "light"
          }
        }
      ]
    },
    {
      "cell_type": "markdown",
      "source": [
        "The fixed points occur where the graph of $f(x) = r\\sin(\\pi x)$ intersects $f(x) = x$. The map has either one or two fixed points: $(0,0)$ always exists as a fixed point, and a secondary fixed point comes up for larger values of $r$. When $r$ is small, $(0,0)$ is a stable fixed point because $x$ > $r\\sin(\\pi x)$."
      ],
      "metadata": {
        "id": "K5vO6QEwYzOR"
      }
    },
    {
      "cell_type": "markdown",
      "source": [
        "## part b "
      ],
      "metadata": {
        "id": "ErMiSGxtaTlm"
      }
    },
    {
      "cell_type": "markdown",
      "source": [
        "The second fixed point appears when the graph of $r\\sin(\\pi x)$ is tangent to the graph of $x$ or where $\\pi r_0 \\cos(\\pi x) = 1$. Solving this together with $ x = r\\sin(\\pi x)$ for initial conditions $(0,0)$ gives us $r_0 = 0.318 = 1/\\pi$."
      ],
      "metadata": {
        "id": "uqoMdZh3bKBb"
      }
    },
    {
      "cell_type": "code",
      "source": [
        "def sys(p):\n",
        "  x, r = p\n",
        "  F1 = x-r*np.sin(np.pi*x)\n",
        "  F2 = np.abs(np.pi*r*np.cos(np.pi*x))-1\n",
        "  return (F1,F2)"
      ],
      "metadata": {
        "id": "A2Mn9WC1-fEw"
      },
      "execution_count": null,
      "outputs": []
    },
    {
      "cell_type": "code",
      "source": [
        "init = [0,0] # solve system starting at 0,0 and find r and x point \n",
        "x, r = fsolve(sys, init)\n",
        "print(r)\n",
        "print(x)"
      ],
      "metadata": {
        "colab": {
          "base_uri": "https://localhost:8080/"
        },
        "id": "vK82Zkki_cQW",
        "outputId": "9a4e9704-ae79-4271-bc47-c5a04bf851db"
      },
      "execution_count": null,
      "outputs": [
        {
          "output_type": "stream",
          "name": "stdout",
          "text": [
            "0.3183098861837907\n",
            "0.0\n"
          ]
        }
      ]
    },
    {
      "cell_type": "code",
      "source": [
        "#@title The graph below shows the map for $r = r_0 \\approx 0.318$. We can see the birth of a fixed point at the place where the graphs have become exactly tangent.\n",
        "f3 = []\n",
        "r = 1/pi\n",
        "x = np.linspace(0,1, 100)\n",
        "for xpoint in x:\n",
        "  f3.append(r*sin(pi*xpoint));\n",
        "plt.plot(x, f3, x, x);"
      ],
      "metadata": {
        "colab": {
          "base_uri": "https://localhost:8080/",
          "height": 265
        },
        "cellView": "form",
        "id": "wW4olOZwRhPM",
        "outputId": "08e4526b-a08f-40c2-e930-958eb0547c1b"
      },
      "execution_count": null,
      "outputs": [
        {
          "output_type": "display_data",
          "data": {
            "text/plain": [
              "<Figure size 432x288 with 1 Axes>"
            ],
            "image/png": "[encoded data removed]"
          },
          "metadata": {
            "needs_background": "light"
          }
        }
      ]
    },
    {
      "cell_type": "markdown",
      "source": [
        "## part c \n",
        "\n",
        "Solving our system of equations for initial conditions offset from the first fixed point gives us that the second fixed point becomes unstable when $r = r_1 = 0.72$."
      ],
      "metadata": {
        "id": "XjHssLfEUIJ_"
      }
    },
    {
      "cell_type": "code",
      "source": [
        "init = [0.5,0.5] # solve system starting at 0,0 and find r and x point \n",
        "x, r = fsolve(sys, init)\n",
        "print(r)\n",
        "print(x)"
      ],
      "metadata": {
        "colab": {
          "base_uri": "https://localhost:8080/"
        },
        "id": "MX1RijzfCCdm",
        "outputId": "6a9b340d-b921-493d-d203-5f3c5aa7a762"
      },
      "execution_count": null,
      "outputs": [
        {
          "output_type": "stream",
          "name": "stdout",
          "text": [
            "0.7199616828897136\n",
            "0.6457736764769721\n"
          ]
        }
      ]
    }
  ]
}