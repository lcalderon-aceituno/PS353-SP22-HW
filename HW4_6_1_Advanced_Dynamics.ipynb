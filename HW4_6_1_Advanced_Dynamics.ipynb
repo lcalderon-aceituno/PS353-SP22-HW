{
  "nbformat": 4,
  "nbformat_minor": 0,
  "metadata": {
    "colab": {
      "name": "HW4_6.1_Advanced_Dynamics.ipynb",
      "provenance": [],
      "authorship_tag": "ABX9TyP6WyHLuaDAiQFCdA+FrFwn",
      "include_colab_link": true
    },
    "kernelspec": {
      "name": "python3",
      "display_name": "Python 3"
    },
    "language_info": {
      "name": "python"
    }
  },
  "cells": [
    {
      "cell_type": "markdown",
      "metadata": {
        "id": "view-in-github",
        "colab_type": "text"
      },
      "source": [
        "<a href=\"https://colab.research.google.com/github/lcalderon-aceituno/PS353-SP22-HW/blob/main/HW4_6_1_Advanced_Dynamics.ipynb\" target=\"_parent\"><img src=\"https://colab.research.google.com/assets/colab-badge.svg\" alt=\"Open In Colab\"/></a>"
      ]
    },
    {
      "cell_type": "markdown",
      "source": [
        "# Show that the length of a path joining two points on a sphere of radius r is $$ L = r \\int\\limits_{\\theta_1}^{\\theta_2} sin^2(\\theta) \\phi '(\\theta)^2 + 1\\, d\\theta$$ "
      ],
      "metadata": {
        "id": "S3WyirZdelrr"
      }
    },
    {
      "cell_type": "code",
      "execution_count": 1,
      "metadata": {
        "colab": {
          "base_uri": "https://localhost:8080/"
        },
        "id": "dhnV3lqJavtZ",
        "outputId": "8b445251-6fbe-457a-f873-81ea02cd1e09"
      },
      "outputs": [
        {
          "output_type": "stream",
          "name": "stdout",
          "text": [
            "Collecting whit-phys-util\n",
            "  Downloading whit_phys_util-0.2.7-py3-none-any.whl (11 kB)\n",
            "Collecting python-dotenv>=0.10.4\n",
            "  Downloading python_dotenv-0.19.2-py2.py3-none-any.whl (17 kB)\n",
            "Collecting pydantic>=1.7.3\n",
            "  Downloading pydantic-1.9.0-cp37-cp37m-manylinux_2_17_x86_64.manylinux2014_x86_64.whl (10.9 MB)\n",
            "\u001b[K     |████████████████████████████████| 10.9 MB 5.6 MB/s \n",
            "\u001b[?25hRequirement already satisfied: typing-extensions>=3.7.4.3 in /usr/local/lib/python3.7/dist-packages (from pydantic>=1.7.3->whit-phys-util) (3.10.0.2)\n",
            "Installing collected packages: python-dotenv, pydantic, whit-phys-util\n",
            "Successfully installed pydantic-1.9.0 python-dotenv-0.19.2 whit-phys-util-0.2.7\n"
          ]
        }
      ],
      "source": [
        "!pip install whit-phys-util"
      ]
    },
    {
      "cell_type": "code",
      "source": [
        "from sympy import *\n",
        "from sympy.plotting import plot"
      ],
      "metadata": {
        "id": "6lV2_Ap9a7Ig"
      },
      "execution_count": 2,
      "outputs": []
    },
    {
      "cell_type": "code",
      "source": [
        "import whit_phys_util as buc"
      ],
      "metadata": {
        "colab": {
          "base_uri": "https://localhost:8080/"
        },
        "id": "TK3EpvgEbBgJ",
        "outputId": "81054a8c-cb8e-4b4d-a536-cb6679ec14fd"
      },
      "execution_count": 3,
      "outputs": [
        {
          "output_type": "stream",
          "name": "stdout",
          "text": [
            "Mounted at /content/drive\n"
          ]
        }
      ]
    },
    {
      "cell_type": "code",
      "source": [
        "var('phi theta r dr dtheta dphi') # create variables"
      ],
      "metadata": {
        "colab": {
          "base_uri": "https://localhost:8080/"
        },
        "id": "P_BD7oxcbC94",
        "outputId": "d2fc47a2-7606-406b-d2d6-574563bdc4e3"
      },
      "execution_count": 8,
      "outputs": [
        {
          "output_type": "execute_result",
          "data": {
            "text/plain": [
              "(phi, theta, r, dr, dtheta, dphi)"
            ]
          },
          "metadata": {},
          "execution_count": 8
        }
      ]
    },
    {
      "cell_type": "code",
      "source": [
        "x = r*cos(phi)*sin(theta)\n",
        "y = r*sin(phi)*sin(theta)\n",
        "z = r*cos(theta)"
      ],
      "metadata": {
        "id": "CGf8QIzKbQft"
      },
      "execution_count": 11,
      "outputs": []
    },
    {
      "cell_type": "code",
      "source": [
        "dx = diff(x, r)*dr + diff(x, phi)*dphi + diff(x, theta)*dtheta\n",
        "dy = diff(y, r)*dr + diff(y, phi)*dphi + diff(y, theta)*dtheta\n",
        "dz = diff(z, r)*dr + diff(z, phi)*dphi + diff(z, theta)*dtheta"
      ],
      "metadata": {
        "id": "vKrUtFSAbf_Z"
      },
      "execution_count": 12,
      "outputs": []
    },
    {
      "cell_type": "code",
      "source": [
        "d = dx**2 + dy**2 + dz**2\n",
        "d.simplify()"
      ],
      "metadata": {
        "colab": {
          "base_uri": "https://localhost:8080/",
          "height": 39
        },
        "id": "1kq_3OXgb2pm",
        "outputId": "8b84b5f7-3658-4f8e-a8fd-3f376fdecb0d"
      },
      "execution_count": 14,
      "outputs": [
        {
          "output_type": "execute_result",
          "data": {
            "text/latex": "$\\displaystyle dphi^{2} r^{2} \\sin^{2}{\\left(\\theta \\right)} + dr^{2} + dtheta^{2} r^{2}$",
            "text/plain": [
              "dphi**2*r**2*sin(theta)**2 + dr**2 + dtheta**2*r**2"
            ]
          },
          "metadata": {},
          "execution_count": 14
        }
      ]
    },
    {
      "cell_type": "markdown",
      "source": [
        "Since we are on a sphere, $dr = 0$ and $$dx^2 +dy^2 +dz^2 = r^2 sin^2(\\theta) d\\phi^2 + r^2 d\\theta^2$$\n",
        "\n",
        "Using this, our integral becomes \n",
        "$$ L = \\int\\limits_{\\theta_1}^{_theta_2} \\sqrt(r^2 sin^2(\\theta) d\\phi^2 + r^2 d\\theta^2)\\$$ \n",
        "\n",
        "Now since r is constant, \n",
        "\n",
        "$$ L = r \\int\\limits_{\\theta_1}^{\\theta_2} sin^2(\\theta) d\\phi^2 +  d\\theta^2\\$$ \n",
        "\n",
        "If we pull out a $d\\theta$, we get to the form given in the text, \n",
        "\n",
        "$$ L = r \\int\\limits_{\\theta_1}^{\\theta_2} sin^2(\\theta) \\frac{d\\phi}{d\\theta}^2 + 1\\, d\\theta$$ "
      ],
      "metadata": {
        "id": "UIjrdmZkdGFT"
      }
    }
  ]
}