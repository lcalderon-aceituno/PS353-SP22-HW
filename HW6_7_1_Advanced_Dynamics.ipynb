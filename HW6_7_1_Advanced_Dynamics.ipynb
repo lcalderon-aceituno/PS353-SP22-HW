{
  "nbformat": 4,
  "nbformat_minor": 0,
  "metadata": {
    "colab": {
      "name": "HW6_7_1_Advanced_Dynamics.ipynb",
      "provenance": [],
      "authorship_tag": "ABX9TyOw4If8EFLTJEIrcwipeCOO",
      "include_colab_link": true
    },
    "kernelspec": {
      "name": "python3",
      "display_name": "Python 3"
    },
    "language_info": {
      "name": "python"
    }
  },
  "cells": [
    {
      "cell_type": "markdown",
      "metadata": {
        "id": "view-in-github",
        "colab_type": "text"
      },
      "source": [
        "<a href=\"https://colab.research.google.com/github/lcalderon-aceituno/PS353-SP22-HW/blob/main/HW6_7_1_Advanced_Dynamics.ipynb\" target=\"_parent\"><img src=\"https://colab.research.google.com/assets/colab-badge.svg\" alt=\"Open In Colab\"/></a>"
      ]
    },
    {
      "cell_type": "markdown",
      "source": [
        "# 7.1 "
      ],
      "metadata": {
        "id": "Y_7LEC9TVwZ_"
      }
    },
    {
      "cell_type": "code",
      "execution_count": 2,
      "metadata": {
        "id": "YcLxFqcwVSFP"
      },
      "outputs": [],
      "source": [
        "from sympy import *\n",
        "from sympy.plotting import plot\n",
        "from sympy import symbols "
      ]
    },
    {
      "cell_type": "code",
      "source": [
        "x1,x2,x1dot,x2dot,k,l,m = symbols(\"x_1, x_2, \\dot{x_1}, \\dot{x_2}, k, l, m\")"
      ],
      "metadata": {
        "id": "bFsk9r_bW8LM"
      },
      "execution_count": 3,
      "outputs": []
    },
    {
      "cell_type": "markdown",
      "source": [
        "##(a) write down Lagrangian for two particles of equal mass confined to x axis and connected by a spring with potential energy $U = 1/2 k x^2$"
      ],
      "metadata": {
        "id": "fdpHwdDIYef3"
      }
    },
    {
      "cell_type": "code",
      "source": [
        "U = 1/2*k*(x1 - x2 - l)**2 # define potential energy of system"
      ],
      "metadata": {
        "id": "83yF0-OeWhjO"
      },
      "execution_count": 4,
      "outputs": []
    },
    {
      "cell_type": "code",
      "source": [
        "T = 1/2*m*(x1dot**2 + x2dot**2) # define kinetic energy of system "
      ],
      "metadata": {
        "id": "TA94-NGIX4Ha"
      },
      "execution_count": 5,
      "outputs": []
    },
    {
      "cell_type": "code",
      "source": [
        "lagrangian = T - U\n",
        "lagrangian"
      ],
      "metadata": {
        "colab": {
          "base_uri": "https://localhost:8080/",
          "height": 40
        },
        "id": "9gso2jUIYGZe",
        "outputId": "4b5df970-671c-4a9a-9ed1-395906e60aff"
      },
      "execution_count": 6,
      "outputs": [
        {
          "output_type": "execute_result",
          "data": {
            "text/latex": "$\\displaystyle - 0.5 k \\left(- l + x_{1} - x_{2}\\right)^{2} + 0.5 m \\left(\\dot{x_1}^{2} + \\dot{x_2}^{2}\\right)$",
            "text/plain": [
              "-0.5*k*(-l + x_1 - x_2)**2 + 0.5*m*(\\dot{x_1}**2 + \\dot{x_2}**2)"
            ]
          },
          "metadata": {},
          "execution_count": 6
        }
      ]
    },
    {
      "cell_type": "markdown",
      "source": [
        "##(b) rewrite $\\mathcal{L}$ in terms of the new variables $X = 1/2(x_1 + x_2)$ and $x$ (the extension), and write down the two Lagrange equations for $X$ and $x$"
      ],
      "metadata": {
        "id": "afeEgbpVYgPm"
      }
    },
    {
      "cell_type": "code",
      "source": [
        "X, Xdot, x, xdot, xdotdot, Xdotdot, t = symbols(\"X, \\dot{X}, x, \\dot{x},\\dot{\\dot{x}},\\dot{\\dot{X}}, t\")"
      ],
      "metadata": {
        "id": "iXHf9cRLaxUb"
      },
      "execution_count": 36,
      "outputs": []
    },
    {
      "cell_type": "code",
      "source": [
        "bigX = 1/2*(x1+x2)\n",
        "bigXdot = 1/2*(x1dot +x2dot)\n",
        "bigXdot**2"
      ],
      "metadata": {
        "colab": {
          "base_uri": "https://localhost:8080/",
          "height": 38
        },
        "id": "nxxPKZvM-fwm",
        "outputId": "3de2e918-9fce-4170-93ef-fc86c9ac1db8"
      },
      "execution_count": 8,
      "outputs": [
        {
          "output_type": "execute_result",
          "data": {
            "text/latex": "$\\displaystyle 0.25 \\left(\\dot{x_1} + \\dot{x_2}\\right)^{2}$",
            "text/plain": [
              "0.25*(\\dot{x_1} + \\dot{x_2})**2"
            ]
          },
          "metadata": {},
          "execution_count": 8
        }
      ]
    },
    {
      "cell_type": "code",
      "source": [
        "smallx = -l + x1 - x2\n",
        "smallxdot = x1dot - x2dot\n",
        "smallxdot_sq = smallxdot**2"
      ],
      "metadata": {
        "id": "YURFOqIS-uBD"
      },
      "execution_count": 9,
      "outputs": []
    },
    {
      "cell_type": "code",
      "source": [
        "exp = bigX**2 + 1/4*(smallxdot_sq)\n",
        "exp.expand()"
      ],
      "metadata": {
        "colab": {
          "base_uri": "https://localhost:8080/",
          "height": 38
        },
        "id": "9pk5jcUt-6tc",
        "outputId": "dccc2208-b82f-43b5-c60d-5d24a06cdfe9"
      },
      "execution_count": 10,
      "outputs": [
        {
          "output_type": "execute_result",
          "data": {
            "text/latex": "$\\displaystyle 0.25 \\dot{x_1}^{2} - 0.5 \\dot{x_1} \\dot{x_2} + 0.25 \\dot{x_2}^{2} + 0.25 x_{1}^{2} + 0.5 x_{1} x_{2} + 0.25 x_{2}^{2}$",
            "text/plain": [
              "0.25*\\dot{x_1}**2 - 0.5*\\dot{x_1}*\\dot{x_2} + 0.25*\\dot{x_2}**2 + 0.25*x_1**2 + 0.5*x_1*x_2 + 0.25*x_2**2"
            ]
          },
          "metadata": {},
          "execution_count": 10
        }
      ]
    },
    {
      "cell_type": "markdown",
      "source": [
        "We know $X = 1/2(x_1 + x_2)$ so $\\dot{X} = 1/2(\\dot{x_1} + \\dot{x_2})$ and $\\dot{X}^2 = 1/4(\\dot{x_1}^2 +2\\dot{x_1}\\dot{x_2}+ \\dot{x_2}^2)$ \n",
        "\n",
        "We also have $\\dot{x} = \\dot{x_1}-\\dot{x_2}$ and $\\dot{x}^2 = \\dot{x_1}^2+\\dot{x_2}^2$ so $$\\dot{X}^2 + 1/4\\dot{x}^2 = 1/4(\\dot{x_1}^2 +2\\dot{x_1}\\dot{x_2}+ \\dot{x_2}^2) = 1/4(\\dot{x_1}^2 +\\dot{x_2}^2)$$\n",
        "\n",
        "and Lagrangian can be written as "
      ],
      "metadata": {
        "id": "8QS7F5Q-6XYp"
      }
    },
    {
      "cell_type": "code",
      "source": [
        "switch_lagrange = m*(Xdot**2 + 1/4*xdot**2) - 1/2*k*x**2 \n",
        "switch_lagrange"
      ],
      "metadata": {
        "colab": {
          "base_uri": "https://localhost:8080/",
          "height": 47
        },
        "id": "zkTY7RIYaCZU",
        "outputId": "d19a7048-f92c-49e8-bc8f-b9a3c8390bb1"
      },
      "execution_count": 11,
      "outputs": [
        {
          "output_type": "execute_result",
          "data": {
            "text/latex": "$\\displaystyle - 0.5 k x^{2} + m \\left(\\dot{X}^{2} + 0.25 \\dot{x}^{2}\\right)$",
            "text/plain": [
              "-0.5*k*x**2 + m*(\\dot{X}**2 + 0.25*\\dot{x}**2)"
            ]
          },
          "metadata": {},
          "execution_count": 11
        }
      ]
    },
    {
      "cell_type": "markdown",
      "source": [
        "### Lagrangian for $x$"
      ],
      "metadata": {
        "id": "1o8a5DJlKg_g"
      }
    },
    {
      "cell_type": "code",
      "source": [
        "LHSx = diff(switch_lagrange, x)\n",
        "RHSx = diff(switch_lagrange,xdot)"
      ],
      "metadata": {
        "colab": {
          "base_uri": "https://localhost:8080/",
          "height": 38
        },
        "id": "DlNj5vejam7p",
        "outputId": "3adeccb4-ffb3-4d78-cea8-858ac7ee6ba9"
      },
      "execution_count": 13,
      "outputs": [
        {
          "output_type": "execute_result",
          "data": {
            "text/latex": "$\\displaystyle - 1.0 k x$",
            "text/plain": [
              "-1.0*k*x"
            ]
          },
          "metadata": {},
          "execution_count": 13
        }
      ]
    },
    {
      "cell_type": "code",
      "source": [
        "RHSx = 0.5*xdotdot*m # take time derivative"
      ],
      "metadata": {
        "colab": {
          "base_uri": "https://localhost:8080/",
          "height": 38
        },
        "id": "Prxy22-aKooO",
        "outputId": "d4c16ce5-2ce6-443c-b6c0-2407137f0eab"
      },
      "execution_count": 15,
      "outputs": [
        {
          "output_type": "execute_result",
          "data": {
            "text/latex": "$\\displaystyle 0.5 \\dot{x} m$",
            "text/plain": [
              "0.5*\\dot{x}*m"
            ]
          },
          "metadata": {},
          "execution_count": 15
        }
      ]
    },
    {
      "cell_type": "code",
      "source": [
        "lagx = LHSx - RHSx # calculate lagrangian"
      ],
      "metadata": {
        "colab": {
          "base_uri": "https://localhost:8080/",
          "height": 38
        },
        "id": "QX-m2z9vK7e0",
        "outputId": "92303dcb-70ff-4889-aa5b-59b7a96ef9cb"
      },
      "execution_count": 23,
      "outputs": [
        {
          "output_type": "execute_result",
          "data": {
            "text/latex": "$\\displaystyle 0.5 \\dot{\\dot{x}} m$",
            "text/plain": [
              "0.5*\\dot{\\dot{x}}*m"
            ]
          },
          "metadata": {},
          "execution_count": 23
        }
      ]
    },
    {
      "cell_type": "code",
      "source": [
        "solve(lagx, xdotdot) # solve lagrangian for xdotdot"
      ],
      "metadata": {
        "colab": {
          "base_uri": "https://localhost:8080/"
        },
        "id": "VsJEwcXBMdBR",
        "outputId": "a5edceb2-c0d8-42db-b172-f63381d2b650"
      },
      "execution_count": 39,
      "outputs": [
        {
          "output_type": "execute_result",
          "data": {
            "text/plain": [
              "[-2.0*k*x/m]"
            ]
          },
          "metadata": {},
          "execution_count": 39
        }
      ]
    },
    {
      "cell_type": "code",
      "source": [
        "xdotdotsoln = -2*k*x/m"
      ],
      "metadata": {
        "id": "RozjkAZ7Nsqu"
      },
      "execution_count": 37,
      "outputs": []
    },
    {
      "cell_type": "markdown",
      "source": [
        "So we have $\\ddot{x} = -2 k \\frac{x}{m}$"
      ],
      "metadata": {
        "id": "Ea4sq2PaMhId"
      }
    },
    {
      "cell_type": "markdown",
      "source": [
        "### Lagrangian for $X$"
      ],
      "metadata": {
        "id": "liuFS-zlM6vY"
      }
    },
    {
      "cell_type": "code",
      "source": [
        "LHSX = diff(switch_lagrange, X)\n",
        "RHSX = diff(switch_lagrange,Xdot)\n",
        "RHSX"
      ],
      "metadata": {
        "colab": {
          "base_uri": "https://localhost:8080/",
          "height": 39
        },
        "id": "isrUKfL2MfEI",
        "outputId": "18126bfb-0ff7-4e4c-9caa-4484a9fad7e7"
      },
      "execution_count": 26,
      "outputs": [
        {
          "output_type": "execute_result",
          "data": {
            "text/latex": "$\\displaystyle 2 \\dot{X} m$",
            "text/plain": [
              "2*\\dot{X}*m"
            ]
          },
          "metadata": {},
          "execution_count": 26
        }
      ]
    },
    {
      "cell_type": "code",
      "source": [
        "RHSX = 2*Xdotdot*m"
      ],
      "metadata": {
        "id": "NNDgdUvUNAh4"
      },
      "execution_count": 28,
      "outputs": []
    },
    {
      "cell_type": "code",
      "source": [
        "lagX = LHSX - RHSX # calculate lagrangian"
      ],
      "metadata": {
        "id": "5nR0ISjPNI5x"
      },
      "execution_count": 29,
      "outputs": []
    },
    {
      "cell_type": "code",
      "source": [
        "solve(lagx, Xdotdot) # solve lagrangian for Xdotdot"
      ],
      "metadata": {
        "colab": {
          "base_uri": "https://localhost:8080/"
        },
        "id": "B_WYoFqZNLYu",
        "outputId": "4a446149-c2b6-452e-b922-3baa02a3dbe5"
      },
      "execution_count": 31,
      "outputs": [
        {
          "output_type": "execute_result",
          "data": {
            "text/plain": [
              "[]"
            ]
          },
          "metadata": {},
          "execution_count": 31
        }
      ]
    },
    {
      "cell_type": "markdown",
      "source": [
        "Lagrangian for $X$ gives us we have $\\ddot{x} = 0$"
      ],
      "metadata": {
        "id": "XJ5abnFSNQs2"
      }
    },
    {
      "cell_type": "markdown",
      "source": [
        "##(c) solve for $X(t)$ and $x(t)$ and describe the motion"
      ],
      "metadata": {
        "id": "uAXOXdqKNeCS"
      }
    },
    {
      "cell_type": "markdown",
      "source": [
        "From the Lagrangian for $x$, we can get $x(t)$"
      ],
      "metadata": {
        "id": "B76lFGIZNlBI"
      }
    },
    {
      "cell_type": "code",
      "source": [
        "firstint = integrate(xdotdotsoln, t)"
      ],
      "metadata": {
        "id": "jiL6H7QSNNQS"
      },
      "execution_count": 43,
      "outputs": []
    },
    {
      "cell_type": "code",
      "source": [
        "integrate(firstint, t)"
      ],
      "metadata": {
        "colab": {
          "base_uri": "https://localhost:8080/",
          "height": 54
        },
        "id": "-Q5ODF_HN3Xe",
        "outputId": "906bca99-694c-42cc-f09c-e424f1755bc1"
      },
      "execution_count": 44,
      "outputs": [
        {
          "output_type": "execute_result",
          "data": {
            "text/latex": "$\\displaystyle - \\frac{k t^{2} x}{m}$",
            "text/plain": [
              "-k*t**2*x/m"
            ]
          },
          "metadata": {},
          "execution_count": 44
        }
      ]
    },
    {
      "cell_type": "markdown",
      "source": [
        "So we have $x(t) = -\\frac{kt^2x}{m}$\n",
        "\n",
        "Clearly, $X(t) = ct + b$ for constants $c, b$, which demonstrates free motion of the particle according to $d = v t + d_0$."
      ],
      "metadata": {
        "id": "Y9de0kBTOZo9"
      }
    }
  ]
}