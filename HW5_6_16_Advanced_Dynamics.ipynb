{
  "nbformat": 4,
  "nbformat_minor": 0,
  "metadata": {
    "colab": {
      "name": "HW5_6_16_Advanced_Dynamics.ipynb",
      "provenance": [],
      "authorship_tag": "ABX9TyO/lJVEoBA6A1fFAnxWM003",
      "include_colab_link": true
    },
    "kernelspec": {
      "name": "python3",
      "display_name": "Python 3"
    },
    "language_info": {
      "name": "python"
    }
  },
  "cells": [
    {
      "cell_type": "markdown",
      "metadata": {
        "id": "view-in-github",
        "colab_type": "text"
      },
      "source": [
        "<a href=\"https://colab.research.google.com/github/lcalderon-aceituno/PS353-SP22-HW/blob/main/HW5_6_16_Advanced_Dynamics.ipynb\" target=\"_parent\"><img src=\"https://colab.research.google.com/assets/colab-badge.svg\" alt=\"Open In Colab\"/></a>"
      ]
    },
    {
      "cell_type": "markdown",
      "source": [
        "From 6.1, we have that \n",
        "\n",
        "$$L = r \\int\\limits_{\\theta_1}^{\\theta_2} \\sqrt(sin^2(\\theta) \\frac{d\\phi}{d\\theta}^2 + 1)\\, d\\theta$$ \n",
        "\n",
        "Since this expression is independant of $\\phi$, $\\frac{\\partial L}{∂ \\phi '} = c$  (from Euler-Lagrange equation). "
      ],
      "metadata": {
        "id": "Clv8B88sO4xc"
      }
    },
    {
      "cell_type": "code",
      "source": [
        "from sympy import *\n",
        "from sympy.plotting import plot"
      ],
      "metadata": {
        "id": "yJTyg-Y86vn6"
      },
      "execution_count": 32,
      "outputs": []
    },
    {
      "cell_type": "code",
      "source": [
        "var('phi theta r dr dtheta dphi phiprime') # create variables"
      ],
      "metadata": {
        "colab": {
          "base_uri": "https://localhost:8080/"
        },
        "id": "vaZn6xOT6qE8",
        "outputId": "596ae3bc-7de8-4c3c-c2ea-0651689904ef"
      },
      "execution_count": 33,
      "outputs": [
        {
          "output_type": "execute_result",
          "data": {
            "text/plain": [
              "(phi, theta, r, dr, dtheta, dphi, phiprime)"
            ]
          },
          "metadata": {},
          "execution_count": 33
        }
      ]
    },
    {
      "cell_type": "code",
      "source": [
        "x = r*cos(phi)*sin(theta)\n",
        "y = r*sin(phi)*sin(theta)\n",
        "z = r*cos(theta)"
      ],
      "metadata": {
        "id": "Cj6Ax7nu6zCh"
      },
      "execution_count": 34,
      "outputs": []
    },
    {
      "cell_type": "code",
      "source": [
        "dx = diff(x, r)*dr + diff(x, phi)*dphi + diff(x, theta)*dtheta\n",
        "dy = diff(y, r)*dr + diff(y, phi)*dphi + diff(y, theta)*dtheta\n",
        "dz = diff(z, r)*dr + diff(z, phi)*dphi + diff(z, theta)*dtheta"
      ],
      "metadata": {
        "id": "EuLgwk_661Rg"
      },
      "execution_count": 35,
      "outputs": []
    },
    {
      "cell_type": "code",
      "source": [
        "d = dx**2 + dy**2 + dz**2\n",
        "d.simplify()"
      ],
      "metadata": {
        "colab": {
          "base_uri": "https://localhost:8080/",
          "height": 38
        },
        "id": "dd8_rE2W63BY",
        "outputId": "f272adb0-e11f-4dca-c070-46170d4d25d0"
      },
      "execution_count": 36,
      "outputs": [
        {
          "output_type": "execute_result",
          "data": {
            "text/latex": "$\\displaystyle dphi^{2} r^{2} \\sin^{2}{\\left(\\theta \\right)} + dr^{2} + dtheta^{2} r^{2}$",
            "text/plain": [
              "dphi**2*r**2*sin(theta)**2 + dr**2 + dtheta**2*r**2"
            ]
          },
          "metadata": {},
          "execution_count": 36
        }
      ]
    },
    {
      "cell_type": "code",
      "execution_count": 37,
      "metadata": {
        "colab": {
          "base_uri": "https://localhost:8080/",
          "height": 73
        },
        "id": "g0OV2Y2nOoLh",
        "outputId": "bd049b3f-18c4-42b4-88a9-7d0c1c55b86d"
      },
      "outputs": [
        {
          "output_type": "execute_result",
          "data": {
            "text/latex": "$\\displaystyle \\frac{{\\phi}' \\sin^{2}{\\left(\\theta \\right)}}{\\sqrt{{\\phi}'^{2} \\sin^{2}{\\left(\\theta \\right)} + 1}}$",
            "text/plain": [
              "phiprime*sin(theta)**2/sqrt(phiprime**2*sin(theta)**2 + 1)"
            ]
          },
          "metadata": {},
          "execution_count": 37
        }
      ],
      "source": [
        "dLdphi_prime = sin(theta)*sin(theta)*phiprime/sqrt(1+sin(theta)*sin(theta)*phiprime*phiprime)\n",
        "dLdphi_prime.simplify()"
      ]
    },
    {
      "cell_type": "code",
      "source": [
        "lhs = phiprime*sin(theta)*sin(theta)\n",
        "lhs*lhs"
      ],
      "metadata": {
        "colab": {
          "base_uri": "https://localhost:8080/",
          "height": 38
        },
        "id": "246gOJ2W88lc",
        "outputId": "c78b24f1-e242-403b-97d6-4bdde8cfcb2f"
      },
      "execution_count": 38,
      "outputs": [
        {
          "output_type": "execute_result",
          "data": {
            "text/latex": "$\\displaystyle {\\phi}'^{2} \\sin^{4}{\\left(\\theta \\right)}$",
            "text/plain": [
              "phiprime**2*sin(theta)**4"
            ]
          },
          "metadata": {},
          "execution_count": 38
        }
      ]
    },
    {
      "cell_type": "code",
      "source": [
        "rhs = phiprime*phiprime*sin(theta)*sin(theta) + 1\n",
        "rhs"
      ],
      "metadata": {
        "colab": {
          "base_uri": "https://localhost:8080/",
          "height": 38
        },
        "id": "Ry4yDIXO9VTq",
        "outputId": "d55369cd-5949-48aa-8ff8-c0184cc23295"
      },
      "execution_count": 39,
      "outputs": [
        {
          "output_type": "execute_result",
          "data": {
            "text/latex": "$\\displaystyle {\\phi}'^{2} \\sin^{2}{\\left(\\theta \\right)} + 1$",
            "text/plain": [
              "phiprime**2*sin(theta)**2 + 1"
            ]
          },
          "metadata": {},
          "execution_count": 39
        }
      ]
    },
    {
      "cell_type": "markdown",
      "source": [
        "So we have $$\\phi'^2\\sin^4(\\theta) = c^2(\\phi '^2\\sin^2(\\theta) + 1)$$\n",
        "$$c^{-2}\\sin^4(\\theta) = \\sin^2(\\theta) + \\phi '^{-2}$$\n",
        "\n",
        "From here on out we can let $c^{-2} = b$, where $b$ is some constant.\n",
        "\n",
        "$$(b\\sin^4(\\theta) - \\sin^2(\\theta))^{-1/2} = \\phi '$$\n",
        "\n",
        "So \n",
        "\n",
        "$$d\\theta(b\\sin^4(\\theta) - \\sin^2(\\theta))^{-1/2} = \\phi$$\n"
      ],
      "metadata": {
        "id": "n7XxyxOr9iJK"
      }
    },
    {
      "cell_type": "code",
      "source": [
        "b = symbols('b', constant = True)"
      ],
      "metadata": {
        "id": "TDWPmVwoATQ9"
      },
      "execution_count": 40,
      "outputs": []
    },
    {
      "cell_type": "markdown",
      "source": [
        "Now that we have this, we can integrate $\\frac{d\\phi}{d \\theta}$ from $0$ to some $\\theta$:"
      ],
      "metadata": {
        "id": "KrehKU6xntPP"
      }
    },
    {
      "cell_type": "code",
      "source": [
        "integrand =  1/sqrt(b*sin(theta)**4-sin(theta)**2)\n",
        "integrand"
      ],
      "metadata": {
        "colab": {
          "base_uri": "https://localhost:8080/",
          "height": 68
        },
        "id": "rf8kCgJb_xCG",
        "outputId": "f0971480-b725-4039-902b-31c4bca23d2f"
      },
      "execution_count": 41,
      "outputs": [
        {
          "output_type": "execute_result",
          "data": {
            "text/latex": "$\\displaystyle \\frac{1}{\\sqrt{b \\sin^{4}{\\left(\\theta \\right)} - \\sin^{2}{\\left(\\theta \\right)}}}$",
            "text/plain": [
              "1/sqrt(b*sin(theta)**4 - sin(theta)**2)"
            ]
          },
          "metadata": {},
          "execution_count": 41
        }
      ]
    },
    {
      "cell_type": "markdown",
      "source": [
        "If our $z$ axis passes through point 1 on the sphere, and $\\phi$ does not change with respect to $\\theta$, $\\phi ' = 0$ and $c$ must always be $0$. Since $\\phi$ is always constant, the path between two given points on a sphere is a circle. "
      ],
      "metadata": {
        "id": "m_MarvyABKtr"
      }
    }
  ]
}